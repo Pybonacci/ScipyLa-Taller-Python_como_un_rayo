{
 "cells": [
  {
   "cell_type": "markdown",
   "metadata": {},
   "source": [
    "# Instalación"
   ]
  },
  {
   "cell_type": "markdown",
   "metadata": {},
   "source": [
    "Para este tutorial vamos a necesitar:\n",
    "\n",
    "* CPython 3 (creo que todo debería ser compatible con Python 2.7.x pero no lo he comprobado)\n",
    "* IPython (para poder ejecutar los notebooks)\n",
    "* Numpy\n",
    "* numba (en su última versión oficial)\n",
    "* Cython\n",
    "* matplotlib (para dibujar alguna cosa)\n",
    "* PyPy (usaremos una versión compatible con CPython 2.7 por conveniencia)\n",
    "* Numpypy\n",
    "\n",
    "Si tenés todo lo anterior instalado podéis saltaros el siguiente paso."
   ]
  },
  {
   "cell_type": "markdown",
   "metadata": {},
   "source": [
    "## CPython, numba y Cython"
   ]
  },
  {
   "cell_type": "markdown",
   "metadata": {},
   "source": [
    "Para toda la parte de Python, numba y Cython vamos a usar la distribución Anaconda con Python 3.4. Esta distribución, además, instala un montón de paquetes útiles para hacer cálculo científico con Python (entre ellos Numpy y Matplotlib).\n",
    "\n",
    "https://continuum.io/downloads"
   ]
  },
  {
   "cell_type": "markdown",
   "metadata": {},
   "source": [
    "Hemos preparado unos pendrives con Anaconda 32 bits para Linux y Windows. Para otros sistemas operativos podéis ir a la página oficial de continuum, creadores de Anaconda, y descargaros la versión para vuestro sistema."
   ]
  },
  {
   "cell_type": "markdown",
   "metadata": {},
   "source": [
    "## Pypy y numpypy"
   ]
  },
  {
   "cell_type": "markdown",
   "metadata": {},
   "source": [
    "Para los cálculos que involucren a Pypy y numpypy vamos a usar una versión de pypy portable que contiene, además, a numpypy.\n",
    "\n",
    "Como en el caso anterior, hemos preparado unos pendrives con la información.\n",
    "\n",
    "Tendréiis que copiar el archivo comprimido en vuestra máquina, descomprimir donde queráis y, por último, hacer:\n",
    "\n",
    "`sudo ln -s /path/to/pypy /usr/local/bin`\n",
    "\n",
    "En windows no es una tarea sencilla instalarlo por lo que si alguno trae un equipo windows lo puede intentar con la información de la página oficial. En Mac no tengo mucha idea. Lo ideal es que la instalación la dejéis para casa y aquí, en esas partes (pequeñas del tutorial), lo ejecutaremos nosotros."
   ]
  },
  {
   "cell_type": "markdown",
   "metadata": {},
   "source": [
    "# El problema que vamos a optimizar"
   ]
  },
  {
   "cell_type": "markdown",
   "metadata": {},
   "source": [
    "Deflexión de una placa rectangular, simplemente apoyada en sus cuatro bordes (es decir, los bordes pueden girar: no están empotrados) sometida a una carga transversal. Este problema tiene solución analítica conocida desde hace tiempo, hallada por Navier:\n",
    "\n",
    "$$w(x,y) = \\sum_{m=1}^\\infty \\sum_{n=1}^\\infty \\frac{a_{mn}}{\\pi^4 D}\\,\\left(\\frac{m^2}{a^2}+\\frac{n^2}{b^2}\\right)^{-2}\\,\\sin\\frac{m \\pi x}{a}\\sin\\frac{n \\pi y}{b}$$\n",
    "\n",
    "siendo $a_{mn}$ los coeficientes de Fourier de la carga aplicada. Como veis, para cada punto $(x, y)$ hay que hacer una doble suma en serie; si encima queremos evaluar esto en un `meshgrid`, necesitamos **un cuádruple bucle**. Ya se anticipa que por muy hábiles que estemos, a Python le va a costar."
   ]
  },
  {
   "cell_type": "markdown",
   "metadata": {},
   "source": [
    "Una solución que, a priori, podríamos pensar que es óptima dentro del mundo Python sería usando numpy arrays y Python y quedaría de la siguiente forma:\n",
    "\n",
    "```python\n",
    "def plate_displacement(xx, yy, ww, a, b, P, xi, eta, D, max_m, max_n):\n",
    "    max_i, max_j = ww.shape\n",
    "    for mm in range(1, max_m):\n",
    "        for nn in range(1, max_n):\n",
    "            for ii in range(max_i):\n",
    "                for jj in range(max_j):\n",
    "                    a_mn = 4*P * sin(mm * pi * xi / a) * sin(nn * pi * eta / b) / (a * b)\n",
    "                    ww[ii, jj] += (a_mn / (mm**2 / a**2 + nn**2 / b**2)**2\n",
    "                                   * sin(mm * pi * xx[ii, jj] / a)\n",
    "                                   * sin(nn * pi * yy[ii, jj] / b)\n",
    "                                   / (pi**4 * D)) \n",
    "```                                  "
   ]
  },
  {
   "cell_type": "markdown",
   "metadata": {},
   "source": [
    "<div class=\"alert alert-info\">Nótese que el array de desplazamientos <code>ww</code> es un argumento de la función, lo cual quiere decir que lo estamos creando en otra parte del código. Esto nos ayudará a medir el rendimiento de forma más uniforme.</div>"
   ]
  },
  {
   "cell_type": "markdown",
   "metadata": {},
   "source": [
    "## Definimos un caso de ejemplo"
   ]
  },
  {
   "cell_type": "markdown",
   "metadata": {},
   "source": [
    "```python\n",
    "import numpy as np\n",
    "from numpy import sin, pi\n",
    "\n",
    "# Plate geometry\n",
    "a = 1.0  # Length, m\n",
    "b = 1.0  # Width, m\n",
    "h = 50e-3  # Thickness, m\n",
    "\n",
    "# Material properties\n",
    "E = 69e9  # Elastic modulus, Pa\n",
    "nu = 0.35  # Poisson's ratio\n",
    "\n",
    "# Series terms\n",
    "max_m = 16\n",
    "max_n = 16\n",
    "\n",
    "# Computation points\n",
    "# NOTE: With an odd number of points the center of the place is included in\n",
    "# the grid\n",
    "NUM_POINTS = 101\n",
    "\n",
    "# Load\n",
    "P = 10e3  # Point load, N\n",
    "xi = a / 2\n",
    "eta = a / 2\n",
    "\n",
    "# Flexural rigidity\n",
    "D = h**3 * E / (12 * (1 - nu**2))\n",
    "\n",
    "# ---\n",
    "\n",
    "# Set up domain\n",
    "x = np.linspace(0, a, num=NUM_POINTS)\n",
    "y = np.linspace(0, b, num=NUM_POINTS)\n",
    "xx, yy = np.meshgrid(x, y)\n",
    "\n",
    "# Compute displacement field\n",
    "ww = np.zeros_like(xx)\n",
    "plate_displacement(xx, yy, ww, a, b, P, xi, eta, D, max_m, max_n)\n",
    "\n",
    "# Print maximum displacement\n",
    "w_max = abs(ww).max()\n",
    "print(\"Maximum displacement = %14.12f mm\" % (w_max * 1e3))\n",
    "print(\"alpha = %7.5f\" % (w_max / (P * a**2 / D)))\n",
    "print(\"alpha * P a^2 / D = %6.4f mm\" % (0.01160 * P * a**2 / D * 1e3))\n",
    "```"
   ]
  },
  {
   "cell_type": "markdown",
   "metadata": {},
   "source": [
    "El resultado que deberíamos obtener de lo antterior sería:"
   ]
  },
  {
   "cell_type": "markdown",
   "metadata": {},
   "source": [
    "```\n",
    "Maximum displacement = 0.141317840389 mm\n",
    "alpha = 0.01158\n",
    "alpha * P a^2 / D = 0.1416 mm\n",
    "```"
   ]
  },
  {
   "cell_type": "markdown",
   "metadata": {},
   "source": [
    "Y para visualizarlo:\n",
    "\n",
    "```python\n",
    "import matplotlib.pyplot as plt\n",
    "from mpl_toolkits.mplot3d import Axes3D\n",
    "plt.rc('axes.formatter', limits=(-3, 3))\n",
    "\n",
    "fig = plt.figure(figsize=(6, 4))\n",
    "ax = fig.add_subplot(111, projection='3d')\n",
    "\n",
    "surf = ax.plot_surface(xx, yy, ww, cmap=plt.cm.Spectral)\n",
    "```\n",
    "\n",
    "![Placa de Navier](./static/navier_plate.png)"
   ]
  },
  {
   "cell_type": "markdown",
   "metadata": {},
   "source": [
    "# AVISO IMPORTANTE"
   ]
  },
  {
   "cell_type": "markdown",
   "metadata": {},
   "source": [
    "<DIV class=\"alert alert-info\">Los números y porcentajes que veáis a continuación pueden variar levemente (o bastante) dependiendo de la máquina donde se ejecute. Tomad los valores como aproximados.</div>"
   ]
  }
 ],
 "metadata": {
  "kernelspec": {
   "display_name": "Python 3",
   "language": "python",
   "name": "python3"
  },
  "language_info": {
   "codemirror_mode": {
    "name": "ipython",
    "version": 3
   },
   "file_extension": ".py",
   "mimetype": "text/x-python",
   "name": "python",
   "nbconvert_exporter": "python",
   "pygments_lexer": "ipython3",
   "version": "3.4.3"
  }
 },
 "nbformat": 4,
 "nbformat_minor": 0
}
