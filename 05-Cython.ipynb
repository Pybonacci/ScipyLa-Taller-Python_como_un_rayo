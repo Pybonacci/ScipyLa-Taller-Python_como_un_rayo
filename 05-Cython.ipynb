{
 "cells": [
  {
   "cell_type": "markdown",
   "metadata": {},
   "source": [
    "# ¿Qué es Cython?"
   ]
  },
  {
   "cell_type": "markdown",
   "metadata": {},
   "source": [
    "Cython son ***dos*** cosas:\n",
    "\n",
    "* Por una parte, Cython es un lenguaje de programación (un ***superconjunto*** de Python) que une Python con el sistema de ***tipado estático*** de C y C++.\n",
    "* Por otra parte, `cython` es un ***compilador*** que traduce codigo fuente escrito en Cython en eficiente código ***C o C++***. El código resultante se podría usar como una extensión Python o como un ejecutable."
   ]
  },
  {
   "cell_type": "markdown",
   "metadata": {},
   "source": [
    "# Documentación"
   ]
  },
  {
   "cell_type": "markdown",
   "metadata": {},
   "source": [
    "La página oficial del proyecto la podéis encontrar en [cython.org](http://cython.org/). Desde ahí podéis llegar a varios recursos de la [documentación oficial y no oficial](http://cython.org/#documentation)."
   ]
  },
  {
   "cell_type": "markdown",
   "metadata": {},
   "source": [
    "En general, la documentación oficial está bien y es suficiente para empezar a aprender sobre cython y aplicarlo inmediatamente. En algunas secciones está un poco desactualizado pero no es mayor problema."
   ]
  },
  {
   "cell_type": "markdown",
   "metadata": {},
   "source": [
    "### Otros recursos para aprender"
   ]
  },
  {
   "cell_type": "markdown",
   "metadata": {},
   "source": [
    "* [Learning Cython Programming](https://www.packtpub.com/application-development/learning-cython-programming)\n",
    "<hr><center><img src=\"./static/Learning Cython Programming.jpg\"/></center><hr>"
   ]
  },
  {
   "cell_type": "markdown",
   "metadata": {},
   "source": [
    "* [Cython, a guide for Python programmers](http://shop.oreilly.com/product/0636920033431.do)\n",
    "<hr><center><img src=\"./static/Cython_oreilly.jpg\"/ width=300 height=350></center><hr>"
   ]
  },
  {
   "cell_type": "markdown",
   "metadata": {},
   "source": [
    "* [Vídeos](http://pyvideo.org/search?models=videos.video&q=cython)\n",
    " * Recomendaría el [tutorial de Scipy 2013](http://pyvideo.org/video/2162/cython-speed-up-python-and-numpy-pythonize-c-c-7) como el más completo."
   ]
  },
  {
   "cell_type": "markdown",
   "metadata": {},
   "source": [
    "# Brevísima introducción a algunas características de Cython"
   ]
  },
  {
   "cell_type": "markdown",
   "metadata": {},
   "source": [
    "Lo que se pretende es, básicamente, aprovechar las fortalezas de Python y C, combinar una sintaxis sencilla con el poder y la velocidad."
   ]
  },
  {
   "cell_type": "markdown",
   "metadata": {},
   "source": [
    "Salvando algunas [excepciones](http://docs.cython.org/src/userguide/limitations.html#cython-limitations), el código Python (tanto Python 2 como Python 3) es código Cython válido. Además, Cython añade una serie de palabras clave para poder usar el sistema de tipado de C con Python y que el compilador `cython` pueda generar código C eficiente."
   ]
  },
  {
   "cell_type": "markdown",
   "metadata": {},
   "source": [
    "Pero, ¿quién usa Cython?\n",
    "\n",
    "Pues mira, igual no lo sabes pero seguramente estés usando Cython todos los días. Sage tiene casi medio millón de líneas de Cython (que se dice pronto), Scipy y Pandas más de 20000, scikit-learn unas 15000,..."
   ]
  },
  {
   "cell_type": "markdown",
   "metadata": {},
   "source": [
    "# El problema que vamos a optimizar"
   ]
  },
  {
   "cell_type": "markdown",
   "metadata": {},
   "source": [
    "Deflexión de una placa rectangular, simplemente apoyada en sus cuatro bordes (es decir, los bordes pueden girar: no están empotrados) sometida a una carga transversal. Este problema tiene solución analítica conocida desde hace tiempo, hallada por Navier:\n",
    "\n",
    "$$w(x,y) = \\sum_{m=1}^\\infty \\sum_{n=1}^\\infty \\frac{a_{mn}}{\\pi^4 D}\\,\\left(\\frac{m^2}{a^2}+\\frac{n^2}{b^2}\\right)^{-2}\\,\\sin\\frac{m \\pi x}{a}\\sin\\frac{n \\pi y}{b}$$\n",
    "\n",
    "siendo $a_{mn}$ los coeficientes de Fourier de la carga aplicada. Como veis, para cada punto $(x, y)$ hay que hacer una doble suma en serie; si encima queremos evaluar esto en un `meshgrid`, necesitamos **un cuádruple bucle**. Ya se anticipa que por muy hábiles que estemos, a Python le va a costar."
   ]
  },
  {
   "cell_type": "markdown",
   "metadata": {
    "collapsed": true
   },
   "source": [
    "<DIV class=\"alert alert-info\">Los números y porcentajes que veáis a continuación pueden variar levemente dependiendo de la máquina donde se ejecute. Tomad los valores como aproximados.</div>"
   ]
  },
  {
   "cell_type": "markdown",
   "metadata": {},
   "source": [
    "# Preparando el problema"
   ]
  },
  {
   "cell_type": "markdown",
   "metadata": {},
   "source": [
    "Importamos algunas librerías"
   ]
  },
  {
   "cell_type": "code",
   "execution_count": 1,
   "metadata": {
    "collapsed": true
   },
   "outputs": [],
   "source": [
    "import numpy as np\n",
    "from math import pi, sin\n",
    "import matplotlib.pyplot as plt\n",
    "%matplotlib inline"
   ]
  },
  {
   "cell_type": "markdown",
   "metadata": {},
   "source": [
    "La versión que vamos a considerar como la estándar y que vamos a optimizar:"
   ]
  },
  {
   "cell_type": "code",
   "execution_count": 2,
   "metadata": {
    "collapsed": true
   },
   "outputs": [],
   "source": [
    "def plate_displacement(xx, yy, ww, a, b, P, xi, eta, D, max_m, max_n):\n",
    "    max_i, max_j = ww.shape\n",
    "    for mm in range(1, max_m):\n",
    "        for nn in range(1, max_n):\n",
    "            for ii in range(max_i):\n",
    "                for jj in range(max_j):\n",
    "                    a_mn = 4 * P * sin(mm * pi * xi / a) * sin(nn * pi * eta / b) / (a * b)\n",
    "                    ww[ii, jj] += (a_mn / (mm**2 / a**2 + nn**2 / b**2)**2\n",
    "                                   * sin(mm * pi * xx[ii, jj] / a)\n",
    "                                   * sin(nn * pi * yy[ii, jj] / b)\n",
    "                                   / (pi**4 * D)) "
   ]
  },
  {
   "cell_type": "markdown",
   "metadata": {},
   "source": [
    "Definimos un caso de ejemplo:"
   ]
  },
  {
   "cell_type": "code",
   "execution_count": 3,
   "metadata": {
    "collapsed": false
   },
   "outputs": [],
   "source": [
    "# Plate geometry\n",
    "a = 1.0  # m\n",
    "b = 1.0  # m\n",
    "h = 50e-3  # m\n",
    "\n",
    "# Material properties\n",
    "E = 69e9  # Pa\n",
    "nu = 0.35\n",
    "\n",
    "# Series terms\n",
    "max_m = 16\n",
    "max_n = 16\n",
    "\n",
    "# Computation points\n",
    "# NOTE: With an odd number of points the center of the place is included in\n",
    "# the grid\n",
    "NUM_POINTS = 101\n",
    "\n",
    "# Load\n",
    "P = 10e3  # N\n",
    "xi = a / 2\n",
    "eta = a / 2\n",
    "\n",
    "# Flexural rigidity\n",
    "D = h**3 * E / (12 * (1 - nu**2))\n",
    "\n",
    "# ---\n",
    "\n",
    "# Set up domain\n",
    "x = np.linspace(0, a, num=NUM_POINTS)\n",
    "y = np.linspace(0, b, num=NUM_POINTS)\n",
    "xx, yy = np.meshgrid(x, y)\n",
    "\n",
    "ww = np.zeros_like(xx)"
   ]
  },
  {
   "cell_type": "markdown",
   "metadata": {},
   "source": [
    "Veamos el resultado:"
   ]
  },
  {
   "cell_type": "code",
   "execution_count": 4,
   "metadata": {
    "collapsed": false
   },
   "outputs": [
    {
     "name": "stdout",
     "output_type": "stream",
     "text": [
      "Maximum displacement = 0.141317840389 mm\n",
      "alpha = 0.01158\n",
      "alpha * P a^2 / D = 0.1416 mm\n"
     ]
    }
   ],
   "source": [
    "# Compute displacement field\n",
    "plate_displacement(xx, yy, ww, a, b, P, xi, eta, D, max_m, max_n)\n",
    "\n",
    "# Print maximum displacement\n",
    "w_max = abs(ww).max()\n",
    "print(\"Maximum displacement = %14.12f mm\" % (w_max * 1e3))\n",
    "print(\"alpha = %7.5f\" % (w_max / (P * a**2 / D)))\n",
    "print(\"alpha * P a^2 / D = %6.4f mm\" % (0.01160 * P * a**2 / D * 1e3))"
   ]
  },
  {
   "cell_type": "markdown",
   "metadata": {},
   "source": [
    "Y el tiempo de ejecución:"
   ]
  },
  {
   "cell_type": "code",
   "execution_count": 5,
   "metadata": {
    "collapsed": false
   },
   "outputs": [
    {
     "name": "stdout",
     "output_type": "stream",
     "text": [
      "1 loops, best of 3: 1min 1s per loop\n"
     ]
    }
   ],
   "source": [
    "%timeit plate_displacement(xx, yy, ww, a, b, P, xi, eta, D, max_m, max_n)"
   ]
  },
  {
   "cell_type": "markdown",
   "metadata": {},
   "source": [
    "# Cython (prueba 1)"
   ]
  },
  {
   "cell_type": "markdown",
   "metadata": {},
   "source": [
    "Lo más sencillo y evidente es usar directamente el compilador `cython` y ver si usando el código python tal cual es un poco más rápido. Para ello, vamos a usar las funciones mágicas que Cython pone a nuestra disposición  en el notebook. Solo vamos a hablar de la función mágica `%%cython`, de momento, aunque hay otras."
   ]
  },
  {
   "cell_type": "code",
   "execution_count": 1,
   "metadata": {
    "collapsed": true
   },
   "outputs": [],
   "source": [
    "# antes cythonmagic\n",
    "%load_ext Cython"
   ]
  },
  {
   "cell_type": "markdown",
   "metadata": {},
   "source": [
    "El comando `%%cython` nos permite escribir código Cython en una celda. Una vez que ejecutamos la celda, IPython se encarga de coger el código, crear un fichero de código Cython con extensión *.pyx*, compilarlo a C y, si todo está correcto, importar ese fichero para que todo esté disponible dentro del notebook."
   ]
  },
  {
   "cell_type": "markdown",
   "metadata": {},
   "source": [
    "<div class=\"alert alert-info\">A la función mágica `%%cython` le podemos pasar una serie de argumentos. Veremos alguno en este análisis pero ahora vamos a definir uno que sirve para que podamos nombrar a la funcíon que se crea y compila al vuelo, `-n` o `--name`.</div>"
   ]
  },
  {
   "cell_type": "code",
   "execution_count": 11,
   "metadata": {
    "collapsed": false
   },
   "outputs": [],
   "source": [
    "%%cython --name probandocython1\n",
    "import numpy as np\n",
    "from numpy import sin, pi\n",
    "\n",
    "def plate_displacement_cy1(xx, yy, ww, a, b, P, xi, eta, D, max_m, max_n):\n",
    "    max_i, max_j = ww.shape\n",
    "    for mm in range(1, max_m):\n",
    "        for nn in range(1, max_n):\n",
    "            for ii in range(max_i):\n",
    "                for jj in range(max_j):\n",
    "                    a_mn = 4 * P * sin(mm * pi * xi / a) * sin(nn * pi * eta / b) / (a * b)\n",
    "                    ww[ii, jj] += (a_mn / (mm**2 / a**2 + nn**2 / b**2)**2\n",
    "                                   * sin(mm * pi * xx[ii, jj] / a)\n",
    "                                   * sin(nn * pi * yy[ii, jj] / b)\n",
    "                                   / (pi**4 * D)) "
   ]
  },
  {
   "cell_type": "markdown",
   "metadata": {},
   "source": [
    "El fichero se creará dentro de la carpeta *cython* disponible dentro del directorio resultado de la función `get_ipython_cache_dir`. Veamos la localización del fichero en mi equipo:"
   ]
  },
  {
   "cell_type": "code",
   "execution_count": 12,
   "metadata": {
    "collapsed": true
   },
   "outputs": [],
   "source": [
    "from IPython.utils.path import get_ipython_cache_dir"
   ]
  },
  {
   "cell_type": "code",
   "execution_count": 13,
   "metadata": {
    "collapsed": false
   },
   "outputs": [
    {
     "name": "stdout",
     "output_type": "stream",
     "text": [
      "/home/kiko/.cache/ipython/cython/probandocython1.c\n"
     ]
    }
   ],
   "source": [
    "print(get_ipython_cache_dir() + '/cython/probandocython1.c')"
   ]
  },
  {
   "cell_type": "markdown",
   "metadata": {},
   "source": [
    "Veamos lo que es un fichero compilado a C con Cython:"
   ]
  },
  {
   "cell_type": "code",
   "execution_count": null,
   "metadata": {
    "collapsed": true
   },
   "outputs": [],
   "source": [
    "%load /home/kiko/.cache/ipython/cython/probandocython1.c"
   ]
  },
  {
   "cell_type": "markdown",
   "metadata": {},
   "source": [
    "Y veamos el tiempo de ejecución:"
   ]
  },
  {
   "cell_type": "code",
   "execution_count": 15,
   "metadata": {
    "collapsed": false
   },
   "outputs": [
    {
     "name": "stdout",
     "output_type": "stream",
     "text": [
      "1 loops, best of 3: 2min 15s per loop\n"
     ]
    }
   ],
   "source": [
    "%timeit plate_displacement_cy1(xx, yy, ww, a, b, P, xi, eta, D, max_m, max_n)"
   ]
  },
  {
   "cell_type": "code",
   "execution_count": 17,
   "metadata": {
    "collapsed": false
   },
   "outputs": [
    {
     "data": {
      "text/plain": [
       "1.2666666666666666"
      ]
     },
     "execution_count": 17,
     "metadata": {},
     "output_type": "execute_result"
    }
   ],
   "source": [
    "171 / 135 # Segundos"
   ]
  },
  {
   "cell_type": "markdown",
   "metadata": {},
   "source": [
    "Parece que, sin hacer ningún cambio al código, ya hemos conseguido alrededor de un 25% mejora del rendimiento."
   ]
  },
  {
   "cell_type": "markdown",
   "metadata": {},
   "source": [
    "Pero cython  puede hacer mucho más."
   ]
  },
  {
   "cell_type": "markdown",
   "metadata": {},
   "source": [
    "# Cython (prueba 2)"
   ]
  },
  {
   "cell_type": "markdown",
   "metadata": {},
   "source": [
    "En esta parte vamos a introducir una de las palabras clave que Cython introduce para extender Python, `cdef`. La palabra clave `cdef` sirve para 'tipar' estáticamente variables en Cython (luego veremos que se usa también para definir funciones). Por ejemplo:\n",
    "\n",
    "```Python\n",
    "cdef int var1, var2\n",
    "cdef float var3\n",
    "```"
   ]
  },
  {
   "cell_type": "markdown",
   "metadata": {},
   "source": [
    "En el bloque de código de más arriba he creado dos variables de tipo entero, `var1` y `var2`, y una variable de tipo float, `var3`. Los [tipos anteriores son la nomenclatura C](http://docs.cython.org/src/userguide/language_basics.html#automatic-type-conversions)."
   ]
  },
  {
   "cell_type": "markdown",
   "metadata": {},
   "source": [
    "<div class=\"alert alert-info\">En esta charla nos vamos a centrar en los <a href=\"https://en.wikipedia.org/wiki/C_data_types#Basic_types\">tipos básicos de C que podéis ver resumidos en la siguiente tabla de referencia.</a></div>\n",
    "\n",
    "<table class=\"wikitable\">\n",
    "<tbody><tr>\n",
    "<th style=\"width:14em;\">Type</th>\n",
    "<th>Explanation</th>\n",
    "<th>Format Specifier</th>\n",
    "</tr>\n",
    "<tr>\n",
    "<td><span class=\"mw-geshi cpp source-cpp\"><span class=\"kw4\">char</span></span></td>\n",
    "<td>Smallest addressable unit of the machine that can contain basic character set. It is an integer type. Actual type can be either signed or unsigned depending on the implementation.</td>\n",
    "<td>&nbsp;%c</td>\n",
    "</tr>\n",
    "<tr>\n",
    "<td><span class=\"mw-geshi cpp source-cpp\"><span class=\"kw4\">signed</span> <span class=\"kw4\">char</span></span></td>\n",
    "<td>Of the same size as <code>char</code>, but guaranteed to be signed.</td>\n",
    "<td>&nbsp;%c</td>\n",
    "</tr>\n",
    "<tr>\n",
    "<td><span class=\"mw-geshi cpp source-cpp\"><span class=\"kw4\">unsigned</span> <span class=\"kw4\">char</span></span></td>\n",
    "<td>Of the same size as <code>char</code>, but guaranteed to be unsigned.</td>\n",
    "<td>&nbsp;%c</td>\n",
    "</tr>\n",
    "<tr>\n",
    "<td><span class=\"mw-geshi cpp source-cpp\"><span class=\"kw4\">short</span></span><br>\n",
    "<span class=\"mw-geshi cpp source-cpp\"><span class=\"kw4\">short</span> <span class=\"kw4\">int</span></span><br>\n",
    "<span class=\"mw-geshi cpp source-cpp\"><span class=\"kw4\">signed</span> <span class=\"kw4\">short</span></span><br>\n",
    "<span class=\"mw-geshi cpp source-cpp\"><span class=\"kw4\">signed</span> <span class=\"kw4\">short</span> <span class=\"kw4\">int</span></span></td>\n",
    "<td><i>Short</i> signed integer type. Capable of containing at least the [−32767,+32767] range;<sup id=\"cite_ref-c99sizes_3-0\" class=\"reference\"><a href=\"#cite_note-c99sizes-3\"><span>[</span>3<span>]</span></a></sup> thus, it is at least 16 bits in size.</td>\n",
    "<td>&nbsp;%hi</td>\n",
    "</tr>\n",
    "<tr>\n",
    "<td><span class=\"mw-geshi cpp source-cpp\"><span class=\"kw4\">unsigned</span> <span class=\"kw4\">short</span></span><br>\n",
    "<span class=\"mw-geshi cpp source-cpp\"><span class=\"kw4\">unsigned</span> <span class=\"kw4\">short</span> <span class=\"kw4\">int</span></span></td>\n",
    "<td>The same as <code>short</code>, but unsigned.</td>\n",
    "<td>&nbsp;%hu</td>\n",
    "</tr>\n",
    "<tr>\n",
    "<td><span class=\"mw-geshi cpp source-cpp\"><span class=\"kw4\">int</span></span><br>\n",
    "<span class=\"mw-geshi cpp source-cpp\"><span class=\"kw4\">signed</span> <span class=\"kw4\">int</span></span></td>\n",
    "<td>Basic signed integer type. Capable of containing at least the [−32767,+32767] range;<sup id=\"cite_ref-c99sizes_3-1\" class=\"reference\"><a href=\"#cite_note-c99sizes-3\"><span>[</span>3<span>]</span></a></sup> thus, it is at least 16 bits in size.</td>\n",
    "<td>&nbsp;%i or&nbsp;%d</td>\n",
    "</tr>\n",
    "<tr>\n",
    "<td><span class=\"mw-geshi cpp source-cpp\"><span class=\"kw4\">unsigned</span></span><br>\n",
    "<span class=\"mw-geshi cpp source-cpp\"><span class=\"kw4\">unsigned</span> <span class=\"kw4\">int</span></span></td>\n",
    "<td>The same as <code>int</code>, but unsigned.</td>\n",
    "<td>&nbsp;%u</td>\n",
    "</tr>\n",
    "<tr>\n",
    "<td><span class=\"mw-geshi cpp source-cpp\"><span class=\"kw4\">long</span></span><br>\n",
    "<span class=\"mw-geshi cpp source-cpp\"><span class=\"kw4\">long</span> <span class=\"kw4\">int</span></span><br>\n",
    "<span class=\"mw-geshi cpp source-cpp\"><span class=\"kw4\">signed</span> <span class=\"kw4\">long</span></span><br>\n",
    "<span class=\"mw-geshi cpp source-cpp\"><span class=\"kw4\">signed</span> <span class=\"kw4\">long</span> <span class=\"kw4\">int</span></span></td>\n",
    "<td><i>Long</i> signed integer type. Capable of containing at least the [−2147483647,+2147483647] range;<sup id=\"cite_ref-c99sizes_3-2\" class=\"reference\"><a href=\"#cite_note-c99sizes-3\"><span>[</span>3<span>]</span></a></sup> thus, it is at least 32 bits in size.</td>\n",
    "<td>&nbsp;%li</td>\n",
    "</tr>\n",
    "<tr>\n",
    "<td><span class=\"mw-geshi cpp source-cpp\"><span class=\"kw4\">unsigned</span> <span class=\"kw4\">long</span></span><br>\n",
    "<span class=\"mw-geshi cpp source-cpp\"><span class=\"kw4\">unsigned</span> <span class=\"kw4\">long</span> <span class=\"kw4\">int</span></span></td>\n",
    "<td>The same as <code>long</code>, but unsigned.</td>\n",
    "<td>&nbsp;%lu</td>\n",
    "</tr>\n",
    "<tr>\n",
    "<td><span class=\"mw-geshi cpp source-cpp\"><span class=\"kw4\">long</span> <span class=\"kw4\">long</span></span><br>\n",
    "<span class=\"mw-geshi cpp source-cpp\"><span class=\"kw4\">long</span> <span class=\"kw4\">long</span> <span class=\"kw4\">int</span></span><br>\n",
    "<span class=\"mw-geshi cpp source-cpp\"><span class=\"kw4\">signed</span> <span class=\"kw4\">long</span> <span class=\"kw4\">long</span></span><br>\n",
    "<span class=\"mw-geshi cpp source-cpp\"><span class=\"kw4\">signed</span> <span class=\"kw4\">long</span> <span class=\"kw4\">long</span> <span class=\"kw4\">int</span></span></td>\n",
    "<td><i>Long long</i> signed integer type. Capable of containing at least the [−9223372036854775807,+9223372036854775807] range;<sup id=\"cite_ref-c99sizes_3-3\" class=\"reference\"><a href=\"#cite_note-c99sizes-3\"><span>[</span>3<span>]</span></a></sup> thus, it is at least 64 bits in size. Specified since the <a href=\"/wiki/C99\" title=\"C99\">C99</a> version of the standard.</td>\n",
    "<td>&nbsp;%lli</td>\n",
    "</tr>\n",
    "<tr>\n",
    "<td><span class=\"mw-geshi cpp source-cpp\"><span class=\"kw4\">unsigned</span> <span class=\"kw4\">long</span> <span class=\"kw4\">long</span></span><br>\n",
    "<span class=\"mw-geshi cpp source-cpp\"><span class=\"kw4\">unsigned</span> <span class=\"kw4\">long</span> <span class=\"kw4\">long</span> <span class=\"kw4\">int</span></span></td>\n",
    "<td>The same as <code>long long</code>, but unsigned. Specified since the <a href=\"/wiki/C99\" title=\"C99\">C99</a> version of the standard.</td>\n",
    "<td>&nbsp;%llu</td>\n",
    "</tr>\n",
    "<tr>\n",
    "<td><span class=\"mw-geshi cpp source-cpp\"><span class=\"kw4\">float</span></span></td>\n",
    "<td>Real floating-point type, usually referred to as a single-precision floating-point type. Actual properties unspecified (except minimum limits), however on most systems this is the <a href=\"/wiki/Single-precision_floating-point_format\" title=\"Single-precision floating-point format\">IEEE 754 single-precision binary floating-point format</a>. This format is required by the optional Annex F \"IEC 60559 floating-point arithmetic\".</td>\n",
    "<td>&nbsp;%f</td>\n",
    "</tr>\n",
    "<tr>\n",
    "<td><span class=\"mw-geshi cpp source-cpp\"><span class=\"kw4\">double</span></span></td>\n",
    "<td>Real floating-point type, usually referred to as a double-precision floating-point type. Actual properties unspecified (except minimum limits), however on most systems this is the <a href=\"/wiki/Double-precision_floating-point_format\" title=\"Double-precision floating-point format\">IEEE 754 double-precision binary floating-point format</a>. This format is required by the optional Annex F \"IEC 60559 floating-point arithmetic\".</td>\n",
    "<td>&nbsp;%f</td>\n",
    "</tr>\n",
    "<tr>\n",
    "<td><span class=\"mw-geshi cpp source-cpp\"><span class=\"kw4\">long</span> <span class=\"kw4\">double</span></span></td>\n",
    "<td>Real floating-point type, usually mapped to an <a href=\"/wiki/Extended_precision\" title=\"Extended precision\">extended precision</a> floating-point number format. Actual properties unspecified. Unlike types <span class=\"mw-geshi cpp source-cpp\"><span class=\"kw4\">float</span></span> and <span class=\"mw-geshi cpp source-cpp\"><span class=\"kw4\">double</span></span>, it can be either <a href=\"/wiki/80-bit_floating_point_format\" title=\"80-bit floating point format\" class=\"mw-redirect\">80-bit floating point format</a>, the non-IEEE \"<a href=\"/wiki/Double-double_arithmetic\" title=\"Double-double arithmetic\" class=\"mw-redirect\">double-double</a>\" or <a href=\"/wiki/IEEE_754_quadruple-precision_floating-point_format\" title=\"IEEE 754 quadruple-precision floating-point format\" class=\"mw-redirect\">IEEE 754 quadruple-precision floating-point format</a> if a higher precision format is provided, otherwise it is the same as <span class=\"mw-geshi cpp source-cpp\"><span class=\"kw4\">double</span></span>. See <a href=\"/wiki/Long_double\" title=\"Long double\">the article on long double</a> for details.</td>\n",
    "<td>&nbsp;%lf</td>\n",
    "</tr>\n",
    "</tbody></table>"
   ]
  },
  {
   "cell_type": "markdown",
   "metadata": {},
   "source": [
    "Vamos a intentar usar `cdef` con algunos tipos de datos que tenemos dentro de nuestra función. Para empezar, tenemos los índices de los bucles (`mm`, `nn`, `ii` y `jj`) y voy a convertir los parámetros de los `range` en tipos estáticos (`max_m`, `max_n`, `max_i` y `max_j`):"
   ]
  },
  {
   "cell_type": "code",
   "execution_count": 18,
   "metadata": {
    "collapsed": true
   },
   "outputs": [],
   "source": [
    "%%cython --name probandocython2\n",
    "import numpy as np\n",
    "from numpy import sin, pi\n",
    "\n",
    "def plate_displacement_cy2(xx, yy, ww, a, b, P, xi, eta, D, max_m, max_n):\n",
    "    cdef unsigned int max_i, max_j, mm, nn, ii, jj\n",
    "    max_i, max_j = ww.shape\n",
    "    for mm in range(1, max_m):\n",
    "        for nn in range(1, max_n):\n",
    "            for ii in range(max_i):\n",
    "                for jj in range(max_j):\n",
    "                    a_mn = 4 * P * sin(mm * pi * xi / a) * sin(nn * pi * eta / b) / (a * b)\n",
    "                    ww[ii, jj] += (a_mn / (mm**2 / a**2 + nn**2 / b**2)**2\n",
    "                                   * sin(mm * pi * xx[ii, jj] / a)\n",
    "                                   * sin(nn * pi * yy[ii, jj] / b)\n",
    "                                   / (pi**4 * D)) "
   ]
  },
  {
   "cell_type": "code",
   "execution_count": 19,
   "metadata": {
    "collapsed": false
   },
   "outputs": [
    {
     "name": "stdout",
     "output_type": "stream",
     "text": [
      "1 loops, best of 3: 2min 29s per loop\n"
     ]
    }
   ],
   "source": [
    "%timeit plate_displacement_cy2(xx, yy, ww, a, b, P, xi, eta, D, max_m, max_n)"
   ]
  },
  {
   "cell_type": "markdown",
   "metadata": {},
   "source": [
    "Vaya decepción... No hemos conseguido gran cosa, tenemos un código un poco más largo y estamos peor que en la **toma 1**.\n",
    "\n",
    "En realidad, estamos usando objetos Python como numpy arrays y no hemos definido las variables de entrada y de salida de la función.\n",
    "\n",
    "<div class=\"alert alert-info\">Cuando existe un tipo Python y C que tienen el mismo nombre (por ejemplo, `int`) predomina el de C (porque es lo deseable, ¿no?).</div>"
   ]
  },
  {
   "cell_type": "markdown",
   "metadata": {},
   "source": [
    "# Cython (prueba 3)"
   ]
  },
  {
   "cell_type": "markdown",
   "metadata": {},
   "source": [
    "En Cython existen tres tipos de funciones, las definidas en el espacio Python con `def`, las definidas en el espacio C con `cdef` (sí, lo mismo que usamos para declarar los tipos) y las definidas en ambos espacios con `cpdef`.\n",
    "\n",
    "* `def`: ya lo hemos visto y funciona como se espera. Accesible desde Python\n",
    "* `cdef`: No es accesible desde Python y la tendremos que envolver con una función Python para poder acceder a la misma.\n",
    "* `cpdef`: Es accesible tanto desde Python como desde C y Cython se encargará de hacer el 'envoltorio' para nosotros. Esto meterá un poco más de código y empeorará levemente el rendimiento.\n",
    "\n",
    "Si definimos una función con `cdef` debería ser una función que se usa internamente dentro del módulo Cython que vayamos a crear y que no sea necesario llamar desde Python."
   ]
  },
  {
   "cell_type": "markdown",
   "metadata": {},
   "source": [
    "La función mágica `%%cython` dispone de una serie de funcionalidades entre la que se encuentra `-a` o `--annotate` (además del `-n` o `--name` que ya hemos visto). Si le pasamos este parámetro podremos ver una representación del código con colores marcando las partes más lentas (amarillo más oscuro) y más optmizadas (más claro) o a la velocidad de C (blanco). Vamos a usarlo para saber donde tenemos cuellos de botella (aplicado a nuestra última versión del código):"
   ]
  },
  {
   "cell_type": "code",
   "execution_count": 20,
   "metadata": {
    "collapsed": false
   },
   "outputs": [
    {
     "data": {
      "text/html": [
       "<!DOCTYPE html>\n",
       "<!-- Generated by Cython 0.22 -->\n",
       "<html>\n",
       "<head>\n",
       "    <meta http-equiv=\"Content-Type\" content=\"text/html; charset=utf-8\" />\n",
       "    <style type=\"text/css\">\n",
       "    \n",
       "body.cython { font-family: courier; font-size: 12; }\n",
       "\n",
       ".cython.tag  {  }\n",
       ".cython.line { margin: 0em }\n",
       ".cython.code  { font-size: 9; color: #444444; display: none; margin: 0px 0px 0px 20px;  }\n",
       "\n",
       ".cython.code .py_c_api  { color: red; }\n",
       ".cython.code .py_macro_api  { color: #FF7000; }\n",
       ".cython.code .pyx_c_api  { color: #FF3000; }\n",
       ".cython.code .pyx_macro_api  { color: #FF7000; }\n",
       ".cython.code .refnanny  { color: #FFA000; }\n",
       ".cython.code .error_goto  { color: #FFA000; }\n",
       "\n",
       ".cython.code .coerce  { color: #008000; border: 1px dotted #008000 }\n",
       ".cython.code .py_attr { color: #FF0000; font-weight: bold; }\n",
       ".cython.code .c_attr  { color: #0000FF; }\n",
       ".cython.code .py_call { color: #FF0000; font-weight: bold; }\n",
       ".cython.code .c_call  { color: #0000FF; }\n",
       "\n",
       ".cython.score-0 {background-color: #FFFFff;}\n",
       ".cython.score-1 {background-color: #FFFFe7;}\n",
       ".cython.score-2 {background-color: #FFFFd4;}\n",
       ".cython.score-3 {background-color: #FFFFc4;}\n",
       ".cython.score-4 {background-color: #FFFFb6;}\n",
       ".cython.score-5 {background-color: #FFFFaa;}\n",
       ".cython.score-6 {background-color: #FFFF9f;}\n",
       ".cython.score-7 {background-color: #FFFF96;}\n",
       ".cython.score-8 {background-color: #FFFF8d;}\n",
       ".cython.score-9 {background-color: #FFFF86;}\n",
       ".cython.score-10 {background-color: #FFFF7f;}\n",
       ".cython.score-11 {background-color: #FFFF79;}\n",
       ".cython.score-12 {background-color: #FFFF73;}\n",
       ".cython.score-13 {background-color: #FFFF6e;}\n",
       ".cython.score-14 {background-color: #FFFF6a;}\n",
       ".cython.score-15 {background-color: #FFFF66;}\n",
       ".cython.score-16 {background-color: #FFFF62;}\n",
       ".cython.score-17 {background-color: #FFFF5e;}\n",
       ".cython.score-18 {background-color: #FFFF5b;}\n",
       ".cython.score-19 {background-color: #FFFF57;}\n",
       ".cython.score-20 {background-color: #FFFF55;}\n",
       ".cython.score-21 {background-color: #FFFF52;}\n",
       ".cython.score-22 {background-color: #FFFF4f;}\n",
       ".cython.score-23 {background-color: #FFFF4d;}\n",
       ".cython.score-24 {background-color: #FFFF4b;}\n",
       ".cython.score-25 {background-color: #FFFF48;}\n",
       ".cython.score-26 {background-color: #FFFF46;}\n",
       ".cython.score-27 {background-color: #FFFF44;}\n",
       ".cython.score-28 {background-color: #FFFF43;}\n",
       ".cython.score-29 {background-color: #FFFF41;}\n",
       ".cython.score-30 {background-color: #FFFF3f;}\n",
       ".cython.score-31 {background-color: #FFFF3e;}\n",
       ".cython.score-32 {background-color: #FFFF3c;}\n",
       ".cython.score-33 {background-color: #FFFF3b;}\n",
       ".cython.score-34 {background-color: #FFFF39;}\n",
       ".cython.score-35 {background-color: #FFFF38;}\n",
       ".cython.score-36 {background-color: #FFFF37;}\n",
       ".cython.score-37 {background-color: #FFFF36;}\n",
       ".cython.score-38 {background-color: #FFFF35;}\n",
       ".cython.score-39 {background-color: #FFFF34;}\n",
       ".cython.score-40 {background-color: #FFFF33;}\n",
       ".cython.score-41 {background-color: #FFFF32;}\n",
       ".cython.score-42 {background-color: #FFFF31;}\n",
       ".cython.score-43 {background-color: #FFFF30;}\n",
       ".cython.score-44 {background-color: #FFFF2f;}\n",
       ".cython.score-45 {background-color: #FFFF2e;}\n",
       ".cython.score-46 {background-color: #FFFF2d;}\n",
       ".cython.score-47 {background-color: #FFFF2c;}\n",
       ".cython.score-48 {background-color: #FFFF2b;}\n",
       ".cython.score-49 {background-color: #FFFF2b;}\n",
       ".cython.score-50 {background-color: #FFFF2a;}\n",
       ".cython.score-51 {background-color: #FFFF29;}\n",
       ".cython.score-52 {background-color: #FFFF29;}\n",
       ".cython.score-53 {background-color: #FFFF28;}\n",
       ".cython.score-54 {background-color: #FFFF27;}\n",
       ".cython.score-55 {background-color: #FFFF27;}\n",
       ".cython.score-56 {background-color: #FFFF26;}\n",
       ".cython.score-57 {background-color: #FFFF26;}\n",
       ".cython.score-58 {background-color: #FFFF25;}\n",
       ".cython.score-59 {background-color: #FFFF24;}\n",
       ".cython.score-60 {background-color: #FFFF24;}\n",
       ".cython.score-61 {background-color: #FFFF23;}\n",
       ".cython.score-62 {background-color: #FFFF23;}\n",
       ".cython.score-63 {background-color: #FFFF22;}\n",
       ".cython.score-64 {background-color: #FFFF22;}\n",
       ".cython.score-65 {background-color: #FFFF22;}\n",
       ".cython.score-66 {background-color: #FFFF21;}\n",
       ".cython.score-67 {background-color: #FFFF21;}\n",
       ".cython.score-68 {background-color: #FFFF20;}\n",
       ".cython.score-69 {background-color: #FFFF20;}\n",
       ".cython.score-70 {background-color: #FFFF1f;}\n",
       ".cython.score-71 {background-color: #FFFF1f;}\n",
       ".cython.score-72 {background-color: #FFFF1f;}\n",
       ".cython.score-73 {background-color: #FFFF1e;}\n",
       ".cython.score-74 {background-color: #FFFF1e;}\n",
       ".cython.score-75 {background-color: #FFFF1e;}\n",
       ".cython.score-76 {background-color: #FFFF1d;}\n",
       ".cython.score-77 {background-color: #FFFF1d;}\n",
       ".cython.score-78 {background-color: #FFFF1c;}\n",
       ".cython.score-79 {background-color: #FFFF1c;}\n",
       ".cython.score-80 {background-color: #FFFF1c;}\n",
       ".cython.score-81 {background-color: #FFFF1c;}\n",
       ".cython.score-82 {background-color: #FFFF1b;}\n",
       ".cython.score-83 {background-color: #FFFF1b;}\n",
       ".cython.score-84 {background-color: #FFFF1b;}\n",
       ".cython.score-85 {background-color: #FFFF1a;}\n",
       ".cython.score-86 {background-color: #FFFF1a;}\n",
       ".cython.score-87 {background-color: #FFFF1a;}\n",
       ".cython.score-88 {background-color: #FFFF1a;}\n",
       ".cython.score-89 {background-color: #FFFF19;}\n",
       ".cython.score-90 {background-color: #FFFF19;}\n",
       ".cython.score-91 {background-color: #FFFF19;}\n",
       ".cython.score-92 {background-color: #FFFF19;}\n",
       ".cython.score-93 {background-color: #FFFF18;}\n",
       ".cython.score-94 {background-color: #FFFF18;}\n",
       ".cython.score-95 {background-color: #FFFF18;}\n",
       ".cython.score-96 {background-color: #FFFF18;}\n",
       ".cython.score-97 {background-color: #FFFF17;}\n",
       ".cython.score-98 {background-color: #FFFF17;}\n",
       ".cython.score-99 {background-color: #FFFF17;}\n",
       ".cython.score-100 {background-color: #FFFF17;}\n",
       ".cython.score-101 {background-color: #FFFF16;}\n",
       ".cython.score-102 {background-color: #FFFF16;}\n",
       ".cython.score-103 {background-color: #FFFF16;}\n",
       ".cython.score-104 {background-color: #FFFF16;}\n",
       ".cython.score-105 {background-color: #FFFF16;}\n",
       ".cython.score-106 {background-color: #FFFF15;}\n",
       ".cython.score-107 {background-color: #FFFF15;}\n",
       ".cython.score-108 {background-color: #FFFF15;}\n",
       ".cython.score-109 {background-color: #FFFF15;}\n",
       ".cython.score-110 {background-color: #FFFF15;}\n",
       ".cython.score-111 {background-color: #FFFF15;}\n",
       ".cython.score-112 {background-color: #FFFF14;}\n",
       ".cython.score-113 {background-color: #FFFF14;}\n",
       ".cython.score-114 {background-color: #FFFF14;}\n",
       ".cython.score-115 {background-color: #FFFF14;}\n",
       ".cython.score-116 {background-color: #FFFF14;}\n",
       ".cython.score-117 {background-color: #FFFF14;}\n",
       ".cython.score-118 {background-color: #FFFF13;}\n",
       ".cython.score-119 {background-color: #FFFF13;}\n",
       ".cython.score-120 {background-color: #FFFF13;}\n",
       ".cython.score-121 {background-color: #FFFF13;}\n",
       ".cython.score-122 {background-color: #FFFF13;}\n",
       ".cython.score-123 {background-color: #FFFF13;}\n",
       ".cython.score-124 {background-color: #FFFF13;}\n",
       ".cython.score-125 {background-color: #FFFF12;}\n",
       ".cython.score-126 {background-color: #FFFF12;}\n",
       ".cython.score-127 {background-color: #FFFF12;}\n",
       ".cython.score-128 {background-color: #FFFF12;}\n",
       ".cython.score-129 {background-color: #FFFF12;}\n",
       ".cython.score-130 {background-color: #FFFF12;}\n",
       ".cython.score-131 {background-color: #FFFF12;}\n",
       ".cython.score-132 {background-color: #FFFF11;}\n",
       ".cython.score-133 {background-color: #FFFF11;}\n",
       ".cython.score-134 {background-color: #FFFF11;}\n",
       ".cython.score-135 {background-color: #FFFF11;}\n",
       ".cython.score-136 {background-color: #FFFF11;}\n",
       ".cython.score-137 {background-color: #FFFF11;}\n",
       ".cython.score-138 {background-color: #FFFF11;}\n",
       ".cython.score-139 {background-color: #FFFF11;}\n",
       ".cython.score-140 {background-color: #FFFF11;}\n",
       ".cython.score-141 {background-color: #FFFF10;}\n",
       ".cython.score-142 {background-color: #FFFF10;}\n",
       ".cython.score-143 {background-color: #FFFF10;}\n",
       ".cython.score-144 {background-color: #FFFF10;}\n",
       ".cython.score-145 {background-color: #FFFF10;}\n",
       ".cython.score-146 {background-color: #FFFF10;}\n",
       ".cython.score-147 {background-color: #FFFF10;}\n",
       ".cython.score-148 {background-color: #FFFF10;}\n",
       ".cython.score-149 {background-color: #FFFF10;}\n",
       ".cython.score-150 {background-color: #FFFF0f;}\n",
       ".cython.score-151 {background-color: #FFFF0f;}\n",
       ".cython.score-152 {background-color: #FFFF0f;}\n",
       ".cython.score-153 {background-color: #FFFF0f;}\n",
       ".cython.score-154 {background-color: #FFFF0f;}\n",
       ".cython.score-155 {background-color: #FFFF0f;}\n",
       ".cython.score-156 {background-color: #FFFF0f;}\n",
       ".cython.score-157 {background-color: #FFFF0f;}\n",
       ".cython.score-158 {background-color: #FFFF0f;}\n",
       ".cython.score-159 {background-color: #FFFF0f;}\n",
       ".cython.score-160 {background-color: #FFFF0f;}\n",
       ".cython.score-161 {background-color: #FFFF0e;}\n",
       ".cython.score-162 {background-color: #FFFF0e;}\n",
       ".cython.score-163 {background-color: #FFFF0e;}\n",
       ".cython.score-164 {background-color: #FFFF0e;}\n",
       ".cython.score-165 {background-color: #FFFF0e;}\n",
       ".cython.score-166 {background-color: #FFFF0e;}\n",
       ".cython.score-167 {background-color: #FFFF0e;}\n",
       ".cython.score-168 {background-color: #FFFF0e;}\n",
       ".cython.score-169 {background-color: #FFFF0e;}\n",
       ".cython.score-170 {background-color: #FFFF0e;}\n",
       ".cython.score-171 {background-color: #FFFF0e;}\n",
       ".cython.score-172 {background-color: #FFFF0e;}\n",
       ".cython.score-173 {background-color: #FFFF0d;}\n",
       ".cython.score-174 {background-color: #FFFF0d;}\n",
       ".cython.score-175 {background-color: #FFFF0d;}\n",
       ".cython.score-176 {background-color: #FFFF0d;}\n",
       ".cython.score-177 {background-color: #FFFF0d;}\n",
       ".cython.score-178 {background-color: #FFFF0d;}\n",
       ".cython.score-179 {background-color: #FFFF0d;}\n",
       ".cython.score-180 {background-color: #FFFF0d;}\n",
       ".cython.score-181 {background-color: #FFFF0d;}\n",
       ".cython.score-182 {background-color: #FFFF0d;}\n",
       ".cython.score-183 {background-color: #FFFF0d;}\n",
       ".cython.score-184 {background-color: #FFFF0d;}\n",
       ".cython.score-185 {background-color: #FFFF0d;}\n",
       ".cython.score-186 {background-color: #FFFF0d;}\n",
       ".cython.score-187 {background-color: #FFFF0c;}\n",
       ".cython.score-188 {background-color: #FFFF0c;}\n",
       ".cython.score-189 {background-color: #FFFF0c;}\n",
       ".cython.score-190 {background-color: #FFFF0c;}\n",
       ".cython.score-191 {background-color: #FFFF0c;}\n",
       ".cython.score-192 {background-color: #FFFF0c;}\n",
       ".cython.score-193 {background-color: #FFFF0c;}\n",
       ".cython.score-194 {background-color: #FFFF0c;}\n",
       ".cython.score-195 {background-color: #FFFF0c;}\n",
       ".cython.score-196 {background-color: #FFFF0c;}\n",
       ".cython.score-197 {background-color: #FFFF0c;}\n",
       ".cython.score-198 {background-color: #FFFF0c;}\n",
       ".cython.score-199 {background-color: #FFFF0c;}\n",
       ".cython.score-200 {background-color: #FFFF0c;}\n",
       ".cython.score-201 {background-color: #FFFF0c;}\n",
       ".cython.score-202 {background-color: #FFFF0c;}\n",
       ".cython.score-203 {background-color: #FFFF0b;}\n",
       ".cython.score-204 {background-color: #FFFF0b;}\n",
       ".cython.score-205 {background-color: #FFFF0b;}\n",
       ".cython.score-206 {background-color: #FFFF0b;}\n",
       ".cython.score-207 {background-color: #FFFF0b;}\n",
       ".cython.score-208 {background-color: #FFFF0b;}\n",
       ".cython.score-209 {background-color: #FFFF0b;}\n",
       ".cython.score-210 {background-color: #FFFF0b;}\n",
       ".cython.score-211 {background-color: #FFFF0b;}\n",
       ".cython.score-212 {background-color: #FFFF0b;}\n",
       ".cython.score-213 {background-color: #FFFF0b;}\n",
       ".cython.score-214 {background-color: #FFFF0b;}\n",
       ".cython.score-215 {background-color: #FFFF0b;}\n",
       ".cython.score-216 {background-color: #FFFF0b;}\n",
       ".cython.score-217 {background-color: #FFFF0b;}\n",
       ".cython.score-218 {background-color: #FFFF0b;}\n",
       ".cython.score-219 {background-color: #FFFF0b;}\n",
       ".cython.score-220 {background-color: #FFFF0b;}\n",
       ".cython.score-221 {background-color: #FFFF0b;}\n",
       ".cython.score-222 {background-color: #FFFF0a;}\n",
       ".cython.score-223 {background-color: #FFFF0a;}\n",
       ".cython.score-224 {background-color: #FFFF0a;}\n",
       ".cython.score-225 {background-color: #FFFF0a;}\n",
       ".cython.score-226 {background-color: #FFFF0a;}\n",
       ".cython.score-227 {background-color: #FFFF0a;}\n",
       ".cython.score-228 {background-color: #FFFF0a;}\n",
       ".cython.score-229 {background-color: #FFFF0a;}\n",
       ".cython.score-230 {background-color: #FFFF0a;}\n",
       ".cython.score-231 {background-color: #FFFF0a;}\n",
       ".cython.score-232 {background-color: #FFFF0a;}\n",
       ".cython.score-233 {background-color: #FFFF0a;}\n",
       ".cython.score-234 {background-color: #FFFF0a;}\n",
       ".cython.score-235 {background-color: #FFFF0a;}\n",
       ".cython.score-236 {background-color: #FFFF0a;}\n",
       ".cython.score-237 {background-color: #FFFF0a;}\n",
       ".cython.score-238 {background-color: #FFFF0a;}\n",
       ".cython.score-239 {background-color: #FFFF0a;}\n",
       ".cython.score-240 {background-color: #FFFF0a;}\n",
       ".cython.score-241 {background-color: #FFFF0a;}\n",
       ".cython.score-242 {background-color: #FFFF0a;}\n",
       ".cython.score-243 {background-color: #FFFF0a;}\n",
       ".cython.score-244 {background-color: #FFFF0a;}\n",
       ".cython.score-245 {background-color: #FFFF0a;}\n",
       ".cython.score-246 {background-color: #FFFF09;}\n",
       ".cython.score-247 {background-color: #FFFF09;}\n",
       ".cython.score-248 {background-color: #FFFF09;}\n",
       ".cython.score-249 {background-color: #FFFF09;}\n",
       ".cython.score-250 {background-color: #FFFF09;}\n",
       ".cython.score-251 {background-color: #FFFF09;}\n",
       ".cython.score-252 {background-color: #FFFF09;}\n",
       ".cython.score-253 {background-color: #FFFF09;}\n",
       ".cython.score-254 {background-color: #FFFF09;}.cython .hll { background-color: #ffffcc }\n",
       ".cython  { background: #f8f8f8; }\n",
       ".cython .c { color: #408080; font-style: italic } /* Comment */\n",
       ".cython .err { border: 1px solid #FF0000 } /* Error */\n",
       ".cython .k { color: #008000; font-weight: bold } /* Keyword */\n",
       ".cython .o { color: #666666 } /* Operator */\n",
       ".cython .cm { color: #408080; font-style: italic } /* Comment.Multiline */\n",
       ".cython .cp { color: #BC7A00 } /* Comment.Preproc */\n",
       ".cython .c1 { color: #408080; font-style: italic } /* Comment.Single */\n",
       ".cython .cs { color: #408080; font-style: italic } /* Comment.Special */\n",
       ".cython .gd { color: #A00000 } /* Generic.Deleted */\n",
       ".cython .ge { font-style: italic } /* Generic.Emph */\n",
       ".cython .gr { color: #FF0000 } /* Generic.Error */\n",
       ".cython .gh { color: #000080; font-weight: bold } /* Generic.Heading */\n",
       ".cython .gi { color: #00A000 } /* Generic.Inserted */\n",
       ".cython .go { color: #888888 } /* Generic.Output */\n",
       ".cython .gp { color: #000080; font-weight: bold } /* Generic.Prompt */\n",
       ".cython .gs { font-weight: bold } /* Generic.Strong */\n",
       ".cython .gu { color: #800080; font-weight: bold } /* Generic.Subheading */\n",
       ".cython .gt { color: #0044DD } /* Generic.Traceback */\n",
       ".cython .kc { color: #008000; font-weight: bold } /* Keyword.Constant */\n",
       ".cython .kd { color: #008000; font-weight: bold } /* Keyword.Declaration */\n",
       ".cython .kn { color: #008000; font-weight: bold } /* Keyword.Namespace */\n",
       ".cython .kp { color: #008000 } /* Keyword.Pseudo */\n",
       ".cython .kr { color: #008000; font-weight: bold } /* Keyword.Reserved */\n",
       ".cython .kt { color: #B00040 } /* Keyword.Type */\n",
       ".cython .m { color: #666666 } /* Literal.Number */\n",
       ".cython .s { color: #BA2121 } /* Literal.String */\n",
       ".cython .na { color: #7D9029 } /* Name.Attribute */\n",
       ".cython .nb { color: #008000 } /* Name.Builtin */\n",
       ".cython .nc { color: #0000FF; font-weight: bold } /* Name.Class */\n",
       ".cython .no { color: #880000 } /* Name.Constant */\n",
       ".cython .nd { color: #AA22FF } /* Name.Decorator */\n",
       ".cython .ni { color: #999999; font-weight: bold } /* Name.Entity */\n",
       ".cython .ne { color: #D2413A; font-weight: bold } /* Name.Exception */\n",
       ".cython .nf { color: #0000FF } /* Name.Function */\n",
       ".cython .nl { color: #A0A000 } /* Name.Label */\n",
       ".cython .nn { color: #0000FF; font-weight: bold } /* Name.Namespace */\n",
       ".cython .nt { color: #008000; font-weight: bold } /* Name.Tag */\n",
       ".cython .nv { color: #19177C } /* Name.Variable */\n",
       ".cython .ow { color: #AA22FF; font-weight: bold } /* Operator.Word */\n",
       ".cython .w { color: #bbbbbb } /* Text.Whitespace */\n",
       ".cython .mb { color: #666666 } /* Literal.Number.Bin */\n",
       ".cython .mf { color: #666666 } /* Literal.Number.Float */\n",
       ".cython .mh { color: #666666 } /* Literal.Number.Hex */\n",
       ".cython .mi { color: #666666 } /* Literal.Number.Integer */\n",
       ".cython .mo { color: #666666 } /* Literal.Number.Oct */\n",
       ".cython .sb { color: #BA2121 } /* Literal.String.Backtick */\n",
       ".cython .sc { color: #BA2121 } /* Literal.String.Char */\n",
       ".cython .sd { color: #BA2121; font-style: italic } /* Literal.String.Doc */\n",
       ".cython .s2 { color: #BA2121 } /* Literal.String.Double */\n",
       ".cython .se { color: #BB6622; font-weight: bold } /* Literal.String.Escape */\n",
       ".cython .sh { color: #BA2121 } /* Literal.String.Heredoc */\n",
       ".cython .si { color: #BB6688; font-weight: bold } /* Literal.String.Interpol */\n",
       ".cython .sx { color: #008000 } /* Literal.String.Other */\n",
       ".cython .sr { color: #BB6688 } /* Literal.String.Regex */\n",
       ".cython .s1 { color: #BA2121 } /* Literal.String.Single */\n",
       ".cython .ss { color: #19177C } /* Literal.String.Symbol */\n",
       ".cython .bp { color: #008000 } /* Name.Builtin.Pseudo */\n",
       ".cython .vc { color: #19177C } /* Name.Variable.Class */\n",
       ".cython .vg { color: #19177C } /* Name.Variable.Global */\n",
       ".cython .vi { color: #19177C } /* Name.Variable.Instance */\n",
       ".cython .il { color: #666666 } /* Literal.Number.Integer.Long */\n",
       "    </style>\n",
       "    <script>\n",
       "    function toggleDiv(id) {\n",
       "        theDiv = id.nextElementSibling\n",
       "        if (theDiv.style.display != 'block') theDiv.style.display = 'block';\n",
       "        else theDiv.style.display = 'none';\n",
       "    }\n",
       "    </script>\n",
       "</head>\n",
       "<body class=\"cython\">\n",
       "<p>Generated by Cython 0.22</p>\n",
       "<div class=\"cython\"><pre class='cython line score-8' onclick='toggleDiv(this)'>+01: <span class=\"k\">import</span> <span class=\"nn\">numpy</span> <span class=\"k\">as</span> <span class=\"nn\">np</span></pre>\n",
       "<pre class='cython code score-8'>  __pyx_t_1 = <span class='pyx_c_api'>__Pyx_Import</span>(__pyx_n_s_numpy, 0, -1);<span class='error_goto'> if (unlikely(!__pyx_t_1)) {__pyx_filename = __pyx_f[0]; __pyx_lineno = 1; __pyx_clineno = __LINE__; goto __pyx_L1_error;}</span>\n",
       "  <span class='refnanny'>__Pyx_GOTREF</span>(__pyx_t_1);\n",
       "  if (<span class='py_c_api'>PyDict_SetItem</span>(__pyx_d, __pyx_n_s_np, __pyx_t_1) &lt; 0) <span class='error_goto'>{__pyx_filename = __pyx_f[0]; __pyx_lineno = 1; __pyx_clineno = __LINE__; goto __pyx_L1_error;}</span>\n",
       "  <span class='pyx_macro_api'>__Pyx_DECREF</span>(__pyx_t_1); __pyx_t_1 = 0;\n",
       "</pre><pre class='cython line score-29' onclick='toggleDiv(this)'>+02: <span class=\"k\">from</span> <span class=\"nn\">numpy</span> <span class=\"k\">import</span> <span class=\"n\">sin</span><span class=\"p\">,</span> <span class=\"n\">pi</span></pre>\n",
       "<pre class='cython code score-29'>  __pyx_t_1 = <span class='py_c_api'>PyList_New</span>(2);<span class='error_goto'> if (unlikely(!__pyx_t_1)) {__pyx_filename = __pyx_f[0]; __pyx_lineno = 2; __pyx_clineno = __LINE__; goto __pyx_L1_error;}</span>\n",
       "  <span class='refnanny'>__Pyx_GOTREF</span>(__pyx_t_1);\n",
       "  <span class='pyx_macro_api'>__Pyx_INCREF</span>(__pyx_n_s_sin);\n",
       "  <span class='py_macro_api'>PyList_SET_ITEM</span>(__pyx_t_1, 0, __pyx_n_s_sin);\n",
       "  <span class='refnanny'>__Pyx_GIVEREF</span>(__pyx_n_s_sin);\n",
       "  <span class='pyx_macro_api'>__Pyx_INCREF</span>(__pyx_n_s_pi);\n",
       "  <span class='py_macro_api'>PyList_SET_ITEM</span>(__pyx_t_1, 1, __pyx_n_s_pi);\n",
       "  <span class='refnanny'>__Pyx_GIVEREF</span>(__pyx_n_s_pi);\n",
       "  __pyx_t_2 = <span class='pyx_c_api'>__Pyx_Import</span>(__pyx_n_s_numpy, __pyx_t_1, -1);<span class='error_goto'> if (unlikely(!__pyx_t_2)) {__pyx_filename = __pyx_f[0]; __pyx_lineno = 2; __pyx_clineno = __LINE__; goto __pyx_L1_error;}</span>\n",
       "  <span class='refnanny'>__Pyx_GOTREF</span>(__pyx_t_2);\n",
       "  <span class='pyx_macro_api'>__Pyx_DECREF</span>(__pyx_t_1); __pyx_t_1 = 0;\n",
       "  __pyx_t_1 = <span class='pyx_c_api'>__Pyx_ImportFrom</span>(__pyx_t_2, __pyx_n_s_sin);<span class='error_goto'> if (unlikely(!__pyx_t_1)) {__pyx_filename = __pyx_f[0]; __pyx_lineno = 2; __pyx_clineno = __LINE__; goto __pyx_L1_error;}</span>\n",
       "  <span class='refnanny'>__Pyx_GOTREF</span>(__pyx_t_1);\n",
       "  if (<span class='py_c_api'>PyDict_SetItem</span>(__pyx_d, __pyx_n_s_sin, __pyx_t_1) &lt; 0) <span class='error_goto'>{__pyx_filename = __pyx_f[0]; __pyx_lineno = 2; __pyx_clineno = __LINE__; goto __pyx_L1_error;}</span>\n",
       "  <span class='pyx_macro_api'>__Pyx_DECREF</span>(__pyx_t_1); __pyx_t_1 = 0;\n",
       "  __pyx_t_1 = <span class='pyx_c_api'>__Pyx_ImportFrom</span>(__pyx_t_2, __pyx_n_s_pi);<span class='error_goto'> if (unlikely(!__pyx_t_1)) {__pyx_filename = __pyx_f[0]; __pyx_lineno = 2; __pyx_clineno = __LINE__; goto __pyx_L1_error;}</span>\n",
       "  <span class='refnanny'>__Pyx_GOTREF</span>(__pyx_t_1);\n",
       "  if (<span class='py_c_api'>PyDict_SetItem</span>(__pyx_d, __pyx_n_s_pi, __pyx_t_1) &lt; 0) <span class='error_goto'>{__pyx_filename = __pyx_f[0]; __pyx_lineno = 2; __pyx_clineno = __LINE__; goto __pyx_L1_error;}</span>\n",
       "  <span class='pyx_macro_api'>__Pyx_DECREF</span>(__pyx_t_1); __pyx_t_1 = 0;\n",
       "  <span class='pyx_macro_api'>__Pyx_DECREF</span>(__pyx_t_2); __pyx_t_2 = 0;\n",
       "</pre><pre class='cython line score-0'>&#xA0;03: </pre>\n",
       "<pre class='cython line score-135' onclick='toggleDiv(this)'>+04: <span class=\"k\">def</span> <span class=\"nf\">plate_displacement_cy2</span><span class=\"p\">(</span><span class=\"n\">xx</span><span class=\"p\">,</span> <span class=\"n\">yy</span><span class=\"p\">,</span> <span class=\"n\">ww</span><span class=\"p\">,</span> <span class=\"n\">a</span><span class=\"p\">,</span> <span class=\"n\">b</span><span class=\"p\">,</span> <span class=\"n\">P</span><span class=\"p\">,</span> <span class=\"n\">xi</span><span class=\"p\">,</span> <span class=\"n\">eta</span><span class=\"p\">,</span> <span class=\"n\">D</span><span class=\"p\">,</span> <span class=\"n\">max_m</span><span class=\"p\">,</span> <span class=\"n\">max_n</span><span class=\"p\">):</span></pre>\n",
       "<pre class='cython code score-135'>/* Python wrapper */\n",
       "static PyObject *__pyx_pw_46_cython_magic_9f53041a8ccae8ba3a4c4ded31c2ae3e_1plate_displacement_cy2(PyObject *__pyx_self, PyObject *__pyx_args, PyObject *__pyx_kwds); /*proto*/\n",
       "static PyMethodDef __pyx_mdef_46_cython_magic_9f53041a8ccae8ba3a4c4ded31c2ae3e_1plate_displacement_cy2 = {\"plate_displacement_cy2\", (PyCFunction)__pyx_pw_46_cython_magic_9f53041a8ccae8ba3a4c4ded31c2ae3e_1plate_displacement_cy2, METH_VARARGS|METH_KEYWORDS, 0};\n",
       "static PyObject *__pyx_pw_46_cython_magic_9f53041a8ccae8ba3a4c4ded31c2ae3e_1plate_displacement_cy2(PyObject *__pyx_self, PyObject *__pyx_args, PyObject *__pyx_kwds) {\n",
       "  PyObject *__pyx_v_xx = 0;\n",
       "  PyObject *__pyx_v_yy = 0;\n",
       "  PyObject *__pyx_v_ww = 0;\n",
       "  PyObject *__pyx_v_a = 0;\n",
       "  PyObject *__pyx_v_b = 0;\n",
       "  PyObject *__pyx_v_P = 0;\n",
       "  PyObject *__pyx_v_xi = 0;\n",
       "  PyObject *__pyx_v_eta = 0;\n",
       "  PyObject *__pyx_v_D = 0;\n",
       "  PyObject *__pyx_v_max_m = 0;\n",
       "  PyObject *__pyx_v_max_n = 0;\n",
       "  PyObject *__pyx_r = 0;\n",
       "  <span class='refnanny'>__Pyx_RefNannyDeclarations</span>\n",
       "  <span class='refnanny'>__Pyx_RefNannySetupContext</span>(\"plate_displacement_cy2 (wrapper)\", 0);\n",
       "  {\n",
       "    static PyObject **__pyx_pyargnames[] = {&amp;__pyx_n_s_xx,&amp;__pyx_n_s_yy,&amp;__pyx_n_s_ww,&amp;__pyx_n_s_a,&amp;__pyx_n_s_b,&amp;__pyx_n_s_P,&amp;__pyx_n_s_xi,&amp;__pyx_n_s_eta,&amp;__pyx_n_s_D,&amp;__pyx_n_s_max_m,&amp;__pyx_n_s_max_n,0};\n",
       "    PyObject* values[11] = {0,0,0,0,0,0,0,0,0,0,0};\n",
       "    if (unlikely(__pyx_kwds)) {\n",
       "      Py_ssize_t kw_args;\n",
       "      const Py_ssize_t pos_args = <span class='py_macro_api'>PyTuple_GET_SIZE</span>(__pyx_args);\n",
       "      switch (pos_args) {\n",
       "        case 11: values[10] = <span class='py_macro_api'>PyTuple_GET_ITEM</span>(__pyx_args, 10);\n",
       "        case 10: values[9] = <span class='py_macro_api'>PyTuple_GET_ITEM</span>(__pyx_args, 9);\n",
       "        case  9: values[8] = <span class='py_macro_api'>PyTuple_GET_ITEM</span>(__pyx_args, 8);\n",
       "        case  8: values[7] = <span class='py_macro_api'>PyTuple_GET_ITEM</span>(__pyx_args, 7);\n",
       "        case  7: values[6] = <span class='py_macro_api'>PyTuple_GET_ITEM</span>(__pyx_args, 6);\n",
       "        case  6: values[5] = <span class='py_macro_api'>PyTuple_GET_ITEM</span>(__pyx_args, 5);\n",
       "        case  5: values[4] = <span class='py_macro_api'>PyTuple_GET_ITEM</span>(__pyx_args, 4);\n",
       "        case  4: values[3] = <span class='py_macro_api'>PyTuple_GET_ITEM</span>(__pyx_args, 3);\n",
       "        case  3: values[2] = <span class='py_macro_api'>PyTuple_GET_ITEM</span>(__pyx_args, 2);\n",
       "        case  2: values[1] = <span class='py_macro_api'>PyTuple_GET_ITEM</span>(__pyx_args, 1);\n",
       "        case  1: values[0] = <span class='py_macro_api'>PyTuple_GET_ITEM</span>(__pyx_args, 0);\n",
       "        case  0: break;\n",
       "        default: goto __pyx_L5_argtuple_error;\n",
       "      }\n",
       "      kw_args = <span class='py_c_api'>PyDict_Size</span>(__pyx_kwds);\n",
       "      switch (pos_args) {\n",
       "        case  0:\n",
       "        if (likely((values[0] = <span class='py_c_api'>PyDict_GetItem</span>(__pyx_kwds, __pyx_n_s_xx)) != 0)) kw_args--;\n",
       "        else goto __pyx_L5_argtuple_error;\n",
       "        case  1:\n",
       "        if (likely((values[1] = <span class='py_c_api'>PyDict_GetItem</span>(__pyx_kwds, __pyx_n_s_yy)) != 0)) kw_args--;\n",
       "        else {\n",
       "          <span class='pyx_c_api'>__Pyx_RaiseArgtupleInvalid</span>(\"plate_displacement_cy2\", 1, 11, 11, 1); <span class='error_goto'>{__pyx_filename = __pyx_f[0]; __pyx_lineno = 4; __pyx_clineno = __LINE__; goto __pyx_L3_error;}</span>\n",
       "        }\n",
       "        case  2:\n",
       "        if (likely((values[2] = <span class='py_c_api'>PyDict_GetItem</span>(__pyx_kwds, __pyx_n_s_ww)) != 0)) kw_args--;\n",
       "        else {\n",
       "          <span class='pyx_c_api'>__Pyx_RaiseArgtupleInvalid</span>(\"plate_displacement_cy2\", 1, 11, 11, 2); <span class='error_goto'>{__pyx_filename = __pyx_f[0]; __pyx_lineno = 4; __pyx_clineno = __LINE__; goto __pyx_L3_error;}</span>\n",
       "        }\n",
       "        case  3:\n",
       "        if (likely((values[3] = <span class='py_c_api'>PyDict_GetItem</span>(__pyx_kwds, __pyx_n_s_a)) != 0)) kw_args--;\n",
       "        else {\n",
       "          <span class='pyx_c_api'>__Pyx_RaiseArgtupleInvalid</span>(\"plate_displacement_cy2\", 1, 11, 11, 3); <span class='error_goto'>{__pyx_filename = __pyx_f[0]; __pyx_lineno = 4; __pyx_clineno = __LINE__; goto __pyx_L3_error;}</span>\n",
       "        }\n",
       "        case  4:\n",
       "        if (likely((values[4] = <span class='py_c_api'>PyDict_GetItem</span>(__pyx_kwds, __pyx_n_s_b)) != 0)) kw_args--;\n",
       "        else {\n",
       "          <span class='pyx_c_api'>__Pyx_RaiseArgtupleInvalid</span>(\"plate_displacement_cy2\", 1, 11, 11, 4); <span class='error_goto'>{__pyx_filename = __pyx_f[0]; __pyx_lineno = 4; __pyx_clineno = __LINE__; goto __pyx_L3_error;}</span>\n",
       "        }\n",
       "        case  5:\n",
       "        if (likely((values[5] = <span class='py_c_api'>PyDict_GetItem</span>(__pyx_kwds, __pyx_n_s_P)) != 0)) kw_args--;\n",
       "        else {\n",
       "          <span class='pyx_c_api'>__Pyx_RaiseArgtupleInvalid</span>(\"plate_displacement_cy2\", 1, 11, 11, 5); <span class='error_goto'>{__pyx_filename = __pyx_f[0]; __pyx_lineno = 4; __pyx_clineno = __LINE__; goto __pyx_L3_error;}</span>\n",
       "        }\n",
       "        case  6:\n",
       "        if (likely((values[6] = <span class='py_c_api'>PyDict_GetItem</span>(__pyx_kwds, __pyx_n_s_xi)) != 0)) kw_args--;\n",
       "        else {\n",
       "          <span class='pyx_c_api'>__Pyx_RaiseArgtupleInvalid</span>(\"plate_displacement_cy2\", 1, 11, 11, 6); <span class='error_goto'>{__pyx_filename = __pyx_f[0]; __pyx_lineno = 4; __pyx_clineno = __LINE__; goto __pyx_L3_error;}</span>\n",
       "        }\n",
       "        case  7:\n",
       "        if (likely((values[7] = <span class='py_c_api'>PyDict_GetItem</span>(__pyx_kwds, __pyx_n_s_eta)) != 0)) kw_args--;\n",
       "        else {\n",
       "          <span class='pyx_c_api'>__Pyx_RaiseArgtupleInvalid</span>(\"plate_displacement_cy2\", 1, 11, 11, 7); <span class='error_goto'>{__pyx_filename = __pyx_f[0]; __pyx_lineno = 4; __pyx_clineno = __LINE__; goto __pyx_L3_error;}</span>\n",
       "        }\n",
       "        case  8:\n",
       "        if (likely((values[8] = <span class='py_c_api'>PyDict_GetItem</span>(__pyx_kwds, __pyx_n_s_D)) != 0)) kw_args--;\n",
       "        else {\n",
       "          <span class='pyx_c_api'>__Pyx_RaiseArgtupleInvalid</span>(\"plate_displacement_cy2\", 1, 11, 11, 8); <span class='error_goto'>{__pyx_filename = __pyx_f[0]; __pyx_lineno = 4; __pyx_clineno = __LINE__; goto __pyx_L3_error;}</span>\n",
       "        }\n",
       "        case  9:\n",
       "        if (likely((values[9] = <span class='py_c_api'>PyDict_GetItem</span>(__pyx_kwds, __pyx_n_s_max_m)) != 0)) kw_args--;\n",
       "        else {\n",
       "          <span class='pyx_c_api'>__Pyx_RaiseArgtupleInvalid</span>(\"plate_displacement_cy2\", 1, 11, 11, 9); <span class='error_goto'>{__pyx_filename = __pyx_f[0]; __pyx_lineno = 4; __pyx_clineno = __LINE__; goto __pyx_L3_error;}</span>\n",
       "        }\n",
       "        case 10:\n",
       "        if (likely((values[10] = <span class='py_c_api'>PyDict_GetItem</span>(__pyx_kwds, __pyx_n_s_max_n)) != 0)) kw_args--;\n",
       "        else {\n",
       "          <span class='pyx_c_api'>__Pyx_RaiseArgtupleInvalid</span>(\"plate_displacement_cy2\", 1, 11, 11, 10); <span class='error_goto'>{__pyx_filename = __pyx_f[0]; __pyx_lineno = 4; __pyx_clineno = __LINE__; goto __pyx_L3_error;}</span>\n",
       "        }\n",
       "      }\n",
       "      if (unlikely(kw_args &gt; 0)) {\n",
       "        if (unlikely(<span class='pyx_c_api'>__Pyx_ParseOptionalKeywords</span>(__pyx_kwds, __pyx_pyargnames, 0, values, pos_args, \"plate_displacement_cy2\") &lt; 0)) <span class='error_goto'>{__pyx_filename = __pyx_f[0]; __pyx_lineno = 4; __pyx_clineno = __LINE__; goto __pyx_L3_error;}</span>\n",
       "      }\n",
       "    } else if (<span class='py_macro_api'>PyTuple_GET_SIZE</span>(__pyx_args) != 11) {\n",
       "      goto __pyx_L5_argtuple_error;\n",
       "    } else {\n",
       "      values[0] = <span class='py_macro_api'>PyTuple_GET_ITEM</span>(__pyx_args, 0);\n",
       "      values[1] = <span class='py_macro_api'>PyTuple_GET_ITEM</span>(__pyx_args, 1);\n",
       "      values[2] = <span class='py_macro_api'>PyTuple_GET_ITEM</span>(__pyx_args, 2);\n",
       "      values[3] = <span class='py_macro_api'>PyTuple_GET_ITEM</span>(__pyx_args, 3);\n",
       "      values[4] = <span class='py_macro_api'>PyTuple_GET_ITEM</span>(__pyx_args, 4);\n",
       "      values[5] = <span class='py_macro_api'>PyTuple_GET_ITEM</span>(__pyx_args, 5);\n",
       "      values[6] = <span class='py_macro_api'>PyTuple_GET_ITEM</span>(__pyx_args, 6);\n",
       "      values[7] = <span class='py_macro_api'>PyTuple_GET_ITEM</span>(__pyx_args, 7);\n",
       "      values[8] = <span class='py_macro_api'>PyTuple_GET_ITEM</span>(__pyx_args, 8);\n",
       "      values[9] = <span class='py_macro_api'>PyTuple_GET_ITEM</span>(__pyx_args, 9);\n",
       "      values[10] = <span class='py_macro_api'>PyTuple_GET_ITEM</span>(__pyx_args, 10);\n",
       "    }\n",
       "    __pyx_v_xx = values[0];\n",
       "    __pyx_v_yy = values[1];\n",
       "    __pyx_v_ww = values[2];\n",
       "    __pyx_v_a = values[3];\n",
       "    __pyx_v_b = values[4];\n",
       "    __pyx_v_P = values[5];\n",
       "    __pyx_v_xi = values[6];\n",
       "    __pyx_v_eta = values[7];\n",
       "    __pyx_v_D = values[8];\n",
       "    __pyx_v_max_m = values[9];\n",
       "    __pyx_v_max_n = values[10];\n",
       "  }\n",
       "  goto __pyx_L4_argument_unpacking_done;\n",
       "  __pyx_L5_argtuple_error:;\n",
       "  <span class='pyx_c_api'>__Pyx_RaiseArgtupleInvalid</span>(\"plate_displacement_cy2\", 1, 11, 11, <span class='py_macro_api'>PyTuple_GET_SIZE</span>(__pyx_args)); <span class='error_goto'>{__pyx_filename = __pyx_f[0]; __pyx_lineno = 4; __pyx_clineno = __LINE__; goto __pyx_L3_error;}</span>\n",
       "  __pyx_L3_error:;\n",
       "  <span class='pyx_c_api'>__Pyx_AddTraceback</span>(\"_cython_magic_9f53041a8ccae8ba3a4c4ded31c2ae3e.plate_displacement_cy2\", __pyx_clineno, __pyx_lineno, __pyx_filename);\n",
       "  <span class='refnanny'>__Pyx_RefNannyFinishContext</span>();\n",
       "  return NULL;\n",
       "  __pyx_L4_argument_unpacking_done:;\n",
       "  __pyx_r = __pyx_pf_46_cython_magic_9f53041a8ccae8ba3a4c4ded31c2ae3e_plate_displacement_cy2(__pyx_self, __pyx_v_xx, __pyx_v_yy, __pyx_v_ww, __pyx_v_a, __pyx_v_b, __pyx_v_P, __pyx_v_xi, __pyx_v_eta, __pyx_v_D, __pyx_v_max_m, __pyx_v_max_n);\n",
       "  int __pyx_lineno = 0;\n",
       "  const char *__pyx_filename = NULL;\n",
       "  int __pyx_clineno = 0;\n",
       "\n",
       "  /* function exit code */\n",
       "  <span class='refnanny'>__Pyx_RefNannyFinishContext</span>();\n",
       "  return __pyx_r;\n",
       "}\n",
       "\n",
       "static PyObject *__pyx_pf_46_cython_magic_9f53041a8ccae8ba3a4c4ded31c2ae3e_plate_displacement_cy2(CYTHON_UNUSED PyObject *__pyx_self, PyObject *__pyx_v_xx, PyObject *__pyx_v_yy, PyObject *__pyx_v_ww, PyObject *__pyx_v_a, PyObject *__pyx_v_b, PyObject *__pyx_v_P, PyObject *__pyx_v_xi, PyObject *__pyx_v_eta, PyObject *__pyx_v_D, PyObject *__pyx_v_max_m, PyObject *__pyx_v_max_n) {\n",
       "  unsigned int __pyx_v_max_i;\n",
       "  unsigned int __pyx_v_max_j;\n",
       "  unsigned int __pyx_v_mm;\n",
       "  unsigned int __pyx_v_nn;\n",
       "  unsigned int __pyx_v_ii;\n",
       "  unsigned int __pyx_v_jj;\n",
       "  PyObject *__pyx_v_a_mn = NULL;\n",
       "  PyObject *__pyx_r = NULL;\n",
       "  <span class='refnanny'>__Pyx_RefNannyDeclarations</span>\n",
       "  <span class='refnanny'>__Pyx_RefNannySetupContext</span>(\"plate_displacement_cy2\", 0);\n",
       "/* … */\n",
       "  /* function exit code */\n",
       "  __pyx_r = Py_None; <span class='pyx_macro_api'>__Pyx_INCREF</span>(Py_None);\n",
       "  goto __pyx_L0;\n",
       "  __pyx_L1_error:;\n",
       "  <span class='pyx_macro_api'>__Pyx_XDECREF</span>(__pyx_t_1);\n",
       "  <span class='pyx_macro_api'>__Pyx_XDECREF</span>(__pyx_t_2);\n",
       "  <span class='pyx_macro_api'>__Pyx_XDECREF</span>(__pyx_t_3);\n",
       "  <span class='pyx_macro_api'>__Pyx_XDECREF</span>(__pyx_t_4);\n",
       "  <span class='pyx_macro_api'>__Pyx_XDECREF</span>(__pyx_t_14);\n",
       "  <span class='pyx_macro_api'>__Pyx_XDECREF</span>(__pyx_t_15);\n",
       "  <span class='pyx_macro_api'>__Pyx_XDECREF</span>(__pyx_t_16);\n",
       "  <span class='pyx_macro_api'>__Pyx_XDECREF</span>(__pyx_t_17);\n",
       "  <span class='pyx_macro_api'>__Pyx_XDECREF</span>(__pyx_t_18);\n",
       "  <span class='pyx_c_api'>__Pyx_AddTraceback</span>(\"_cython_magic_9f53041a8ccae8ba3a4c4ded31c2ae3e.plate_displacement_cy2\", __pyx_clineno, __pyx_lineno, __pyx_filename);\n",
       "  __pyx_r = NULL;\n",
       "  __pyx_L0:;\n",
       "  <span class='pyx_macro_api'>__Pyx_XDECREF</span>(__pyx_v_a_mn);\n",
       "  <span class='refnanny'>__Pyx_XGIVEREF</span>(__pyx_r);\n",
       "  <span class='refnanny'>__Pyx_RefNannyFinishContext</span>();\n",
       "  return __pyx_r;\n",
       "}\n",
       "/* … */\n",
       "  __pyx_tuple_ = <span class='py_c_api'>PyTuple_Pack</span>(18, __pyx_n_s_xx, __pyx_n_s_yy, __pyx_n_s_ww, __pyx_n_s_a, __pyx_n_s_b, __pyx_n_s_P, __pyx_n_s_xi, __pyx_n_s_eta, __pyx_n_s_D, __pyx_n_s_max_m, __pyx_n_s_max_n, __pyx_n_s_max_i, __pyx_n_s_max_j, __pyx_n_s_mm, __pyx_n_s_nn, __pyx_n_s_ii, __pyx_n_s_jj, __pyx_n_s_a_mn);<span class='error_goto'> if (unlikely(!__pyx_tuple_)) {__pyx_filename = __pyx_f[0]; __pyx_lineno = 4; __pyx_clineno = __LINE__; goto __pyx_L1_error;}</span>\n",
       "  <span class='refnanny'>__Pyx_GOTREF</span>(__pyx_tuple_);\n",
       "  <span class='refnanny'>__Pyx_GIVEREF</span>(__pyx_tuple_);\n",
       "/* … */\n",
       "  __pyx_t_2 = PyCFunction_NewEx(&amp;__pyx_mdef_46_cython_magic_9f53041a8ccae8ba3a4c4ded31c2ae3e_1plate_displacement_cy2, NULL, __pyx_n_s_cython_magic_9f53041a8ccae8ba3a);<span class='error_goto'> if (unlikely(!__pyx_t_2)) {__pyx_filename = __pyx_f[0]; __pyx_lineno = 4; __pyx_clineno = __LINE__; goto __pyx_L1_error;}</span>\n",
       "  <span class='refnanny'>__Pyx_GOTREF</span>(__pyx_t_2);\n",
       "  if (<span class='py_c_api'>PyDict_SetItem</span>(__pyx_d, __pyx_n_s_plate_displacement_cy2, __pyx_t_2) &lt; 0) <span class='error_goto'>{__pyx_filename = __pyx_f[0]; __pyx_lineno = 4; __pyx_clineno = __LINE__; goto __pyx_L1_error;}</span>\n",
       "  <span class='pyx_macro_api'>__Pyx_DECREF</span>(__pyx_t_2); __pyx_t_2 = 0;\n",
       "</pre><pre class='cython line score-0'>&#xA0;05:     <span class=\"k\">cdef</span> <span class=\"kt\">unsigned</span> <span class=\"kt\">int</span> <span class=\"nf\">max_i</span><span class=\"p\">,</span> <span class=\"nf\">max_j</span><span class=\"p\">,</span> <span class=\"nf\">mm</span><span class=\"p\">,</span> <span class=\"nf\">nn</span><span class=\"p\">,</span> <span class=\"nf\">ii</span><span class=\"p\">,</span> <span class=\"nf\">jj</span></pre>\n",
       "<pre class='cython line score-55' onclick='toggleDiv(this)'>+06:     <span class=\"n\">max_i</span><span class=\"p\">,</span> <span class=\"n\">max_j</span> <span class=\"o\">=</span> <span class=\"n\">ww</span><span class=\"o\">.</span><span class=\"n\">shape</span></pre>\n",
       "<pre class='cython code score-55'>  __pyx_t_1 = <span class='pyx_c_api'>__Pyx_PyObject_GetAttrStr</span>(__pyx_v_ww, __pyx_n_s_shape);<span class='error_goto'> if (unlikely(!__pyx_t_1)) {__pyx_filename = __pyx_f[0]; __pyx_lineno = 6; __pyx_clineno = __LINE__; goto __pyx_L1_error;}</span>\n",
       "  <span class='refnanny'>__Pyx_GOTREF</span>(__pyx_t_1);\n",
       "  if ((likely(<span class='py_c_api'>PyTuple_CheckExact</span>(__pyx_t_1))) || (<span class='py_c_api'>PyList_CheckExact</span>(__pyx_t_1))) {\n",
       "    PyObject* sequence = __pyx_t_1;\n",
       "    #if CYTHON_COMPILING_IN_CPYTHON\n",
       "    Py_ssize_t size = Py_SIZE(sequence);\n",
       "    #else\n",
       "    Py_ssize_t size = <span class='py_c_api'>PySequence_Size</span>(sequence);\n",
       "    #endif\n",
       "    if (unlikely(size != 2)) {\n",
       "      if (size &gt; 2) <span class='pyx_c_api'>__Pyx_RaiseTooManyValuesError</span>(2);\n",
       "      else if (size &gt;= 0) <span class='pyx_c_api'>__Pyx_RaiseNeedMoreValuesError</span>(size);\n",
       "      <span class='error_goto'>{__pyx_filename = __pyx_f[0]; __pyx_lineno = 6; __pyx_clineno = __LINE__; goto __pyx_L1_error;}</span>\n",
       "    }\n",
       "    #if CYTHON_COMPILING_IN_CPYTHON\n",
       "    if (likely(<span class='py_c_api'>PyTuple_CheckExact</span>(sequence))) {\n",
       "      __pyx_t_2 = <span class='py_macro_api'>PyTuple_GET_ITEM</span>(sequence, 0); \n",
       "      __pyx_t_3 = <span class='py_macro_api'>PyTuple_GET_ITEM</span>(sequence, 1); \n",
       "    } else {\n",
       "      __pyx_t_2 = <span class='py_macro_api'>PyList_GET_ITEM</span>(sequence, 0); \n",
       "      __pyx_t_3 = <span class='py_macro_api'>PyList_GET_ITEM</span>(sequence, 1); \n",
       "    }\n",
       "    <span class='pyx_macro_api'>__Pyx_INCREF</span>(__pyx_t_2);\n",
       "    <span class='pyx_macro_api'>__Pyx_INCREF</span>(__pyx_t_3);\n",
       "    #else\n",
       "    __pyx_t_2 = <span class='py_macro_api'>PySequence_ITEM</span>(sequence, 0);<span class='error_goto'> if (unlikely(!__pyx_t_2)) {__pyx_filename = __pyx_f[0]; __pyx_lineno = 6; __pyx_clineno = __LINE__; goto __pyx_L1_error;}</span>\n",
       "    <span class='refnanny'>__Pyx_GOTREF</span>(__pyx_t_2);\n",
       "    __pyx_t_3 = <span class='py_macro_api'>PySequence_ITEM</span>(sequence, 1);<span class='error_goto'> if (unlikely(!__pyx_t_3)) {__pyx_filename = __pyx_f[0]; __pyx_lineno = 6; __pyx_clineno = __LINE__; goto __pyx_L1_error;}</span>\n",
       "    <span class='refnanny'>__Pyx_GOTREF</span>(__pyx_t_3);\n",
       "    #endif\n",
       "    <span class='pyx_macro_api'>__Pyx_DECREF</span>(__pyx_t_1); __pyx_t_1 = 0;\n",
       "  } else {\n",
       "    Py_ssize_t index = -1;\n",
       "    __pyx_t_4 = <span class='py_c_api'>PyObject_GetIter</span>(__pyx_t_1);<span class='error_goto'> if (unlikely(!__pyx_t_4)) {__pyx_filename = __pyx_f[0]; __pyx_lineno = 6; __pyx_clineno = __LINE__; goto __pyx_L1_error;}</span>\n",
       "    <span class='refnanny'>__Pyx_GOTREF</span>(__pyx_t_4);\n",
       "    <span class='pyx_macro_api'>__Pyx_DECREF</span>(__pyx_t_1); __pyx_t_1 = 0;\n",
       "    __pyx_t_5 = Py_TYPE(__pyx_t_4)-&gt;tp_iternext;\n",
       "    index = 0; __pyx_t_2 = __pyx_t_5(__pyx_t_4); if (unlikely(!__pyx_t_2)) goto __pyx_L3_unpacking_failed;\n",
       "    <span class='refnanny'>__Pyx_GOTREF</span>(__pyx_t_2);\n",
       "    index = 1; __pyx_t_3 = __pyx_t_5(__pyx_t_4); if (unlikely(!__pyx_t_3)) goto __pyx_L3_unpacking_failed;\n",
       "    <span class='refnanny'>__Pyx_GOTREF</span>(__pyx_t_3);\n",
       "    if (<span class='pyx_c_api'>__Pyx_IternextUnpackEndCheck</span>(__pyx_t_5(__pyx_t_4), 2) &lt; 0) <span class='error_goto'>{__pyx_filename = __pyx_f[0]; __pyx_lineno = 6; __pyx_clineno = __LINE__; goto __pyx_L1_error;}</span>\n",
       "    __pyx_t_5 = NULL;\n",
       "    <span class='pyx_macro_api'>__Pyx_DECREF</span>(__pyx_t_4); __pyx_t_4 = 0;\n",
       "    goto __pyx_L4_unpacking_done;\n",
       "    __pyx_L3_unpacking_failed:;\n",
       "    <span class='pyx_macro_api'>__Pyx_DECREF</span>(__pyx_t_4); __pyx_t_4 = 0;\n",
       "    __pyx_t_5 = NULL;\n",
       "    if (<span class='pyx_c_api'>__Pyx_IterFinish</span>() == 0) <span class='pyx_c_api'>__Pyx_RaiseNeedMoreValuesError</span>(index);\n",
       "    <span class='error_goto'>{__pyx_filename = __pyx_f[0]; __pyx_lineno = 6; __pyx_clineno = __LINE__; goto __pyx_L1_error;}</span>\n",
       "    __pyx_L4_unpacking_done:;\n",
       "  }\n",
       "  __pyx_t_6 = <span class='pyx_c_api'>__Pyx_PyInt_As_unsigned_int</span>(__pyx_t_2);<span class='error_goto'> if (unlikely((__pyx_t_6 == (unsigned int)-1) &amp;&amp; PyErr_Occurred())) {__pyx_filename = __pyx_f[0]; __pyx_lineno = 6; __pyx_clineno = __LINE__; goto __pyx_L1_error;}</span>\n",
       "  <span class='pyx_macro_api'>__Pyx_DECREF</span>(__pyx_t_2); __pyx_t_2 = 0;\n",
       "  __pyx_t_7 = <span class='pyx_c_api'>__Pyx_PyInt_As_unsigned_int</span>(__pyx_t_3);<span class='error_goto'> if (unlikely((__pyx_t_7 == (unsigned int)-1) &amp;&amp; PyErr_Occurred())) {__pyx_filename = __pyx_f[0]; __pyx_lineno = 6; __pyx_clineno = __LINE__; goto __pyx_L1_error;}</span>\n",
       "  <span class='pyx_macro_api'>__Pyx_DECREF</span>(__pyx_t_3); __pyx_t_3 = 0;\n",
       "  __pyx_v_max_i = __pyx_t_6;\n",
       "  __pyx_v_max_j = __pyx_t_7;\n",
       "</pre><pre class='cython line score-2' onclick='toggleDiv(this)'>+07:     <span class=\"k\">for</span> <span class=\"n\">mm</span> <span class=\"ow\">in</span> <span class=\"nb\">range</span><span class=\"p\">(</span><span class=\"mf\">1</span><span class=\"p\">,</span> <span class=\"n\">max_m</span><span class=\"p\">):</span></pre>\n",
       "<pre class='cython code score-2'>  __pyx_t_8 = <span class='pyx_c_api'>__Pyx_PyInt_As_long</span>(__pyx_v_max_m);<span class='error_goto'> if (unlikely((__pyx_t_8 == (long)-1) &amp;&amp; PyErr_Occurred())) {__pyx_filename = __pyx_f[0]; __pyx_lineno = 7; __pyx_clineno = __LINE__; goto __pyx_L1_error;}</span>\n",
       "  for (__pyx_t_7 = 1; __pyx_t_7 &lt; __pyx_t_8; __pyx_t_7+=1) {\n",
       "    __pyx_v_mm = __pyx_t_7;\n",
       "</pre><pre class='cython line score-2' onclick='toggleDiv(this)'>+08:         <span class=\"k\">for</span> <span class=\"n\">nn</span> <span class=\"ow\">in</span> <span class=\"nb\">range</span><span class=\"p\">(</span><span class=\"mf\">1</span><span class=\"p\">,</span> <span class=\"n\">max_n</span><span class=\"p\">):</span></pre>\n",
       "<pre class='cython code score-2'>    __pyx_t_9 = <span class='pyx_c_api'>__Pyx_PyInt_As_long</span>(__pyx_v_max_n);<span class='error_goto'> if (unlikely((__pyx_t_9 == (long)-1) &amp;&amp; PyErr_Occurred())) {__pyx_filename = __pyx_f[0]; __pyx_lineno = 8; __pyx_clineno = __LINE__; goto __pyx_L1_error;}</span>\n",
       "    for (__pyx_t_6 = 1; __pyx_t_6 &lt; __pyx_t_9; __pyx_t_6+=1) {\n",
       "      __pyx_v_nn = __pyx_t_6;\n",
       "</pre><pre class='cython line score-0' onclick='toggleDiv(this)'>+09:             <span class=\"k\">for</span> <span class=\"n\">ii</span> <span class=\"ow\">in</span> <span class=\"nb\">range</span><span class=\"p\">(</span><span class=\"n\">max_i</span><span class=\"p\">):</span></pre>\n",
       "<pre class='cython code score-0'>      __pyx_t_10 = __pyx_v_max_i;\n",
       "      for (__pyx_t_11 = 0; __pyx_t_11 &lt; __pyx_t_10; __pyx_t_11+=1) {\n",
       "        __pyx_v_ii = __pyx_t_11;\n",
       "</pre><pre class='cython line score-0' onclick='toggleDiv(this)'>+10:                 <span class=\"k\">for</span> <span class=\"n\">jj</span> <span class=\"ow\">in</span> <span class=\"nb\">range</span><span class=\"p\">(</span><span class=\"n\">max_j</span><span class=\"p\">):</span></pre>\n",
       "<pre class='cython code score-0'>        __pyx_t_12 = __pyx_v_max_j;\n",
       "        for (__pyx_t_13 = 0; __pyx_t_13 &lt; __pyx_t_12; __pyx_t_13+=1) {\n",
       "          __pyx_v_jj = __pyx_t_13;\n",
       "</pre><pre class='cython line score-121' onclick='toggleDiv(this)'>+11:                     <span class=\"n\">a_mn</span> <span class=\"o\">=</span> <span class=\"mf\">4</span> <span class=\"o\">*</span> <span class=\"n\">P</span> <span class=\"o\">*</span> <span class=\"n\">sin</span><span class=\"p\">(</span><span class=\"n\">mm</span> <span class=\"o\">*</span> <span class=\"n\">pi</span> <span class=\"o\">*</span> <span class=\"n\">xi</span> <span class=\"o\">/</span> <span class=\"n\">a</span><span class=\"p\">)</span> <span class=\"o\">*</span> <span class=\"n\">sin</span><span class=\"p\">(</span><span class=\"n\">nn</span> <span class=\"o\">*</span> <span class=\"n\">pi</span> <span class=\"o\">*</span> <span class=\"n\">eta</span> <span class=\"o\">/</span> <span class=\"n\">b</span><span class=\"p\">)</span> <span class=\"o\">/</span> <span class=\"p\">(</span><span class=\"n\">a</span> <span class=\"o\">*</span> <span class=\"n\">b</span><span class=\"p\">)</span></pre>\n",
       "<pre class='cython code score-121'>          __pyx_t_1 = <span class='py_c_api'>PyNumber_Multiply</span>(__pyx_int_4, __pyx_v_P);<span class='error_goto'> if (unlikely(!__pyx_t_1)) {__pyx_filename = __pyx_f[0]; __pyx_lineno = 11; __pyx_clineno = __LINE__; goto __pyx_L1_error;}</span>\n",
       "          <span class='refnanny'>__Pyx_GOTREF</span>(__pyx_t_1);\n",
       "          __pyx_t_2 = <span class='pyx_c_api'>__Pyx_GetModuleGlobalName</span>(__pyx_n_s_sin);<span class='error_goto'> if (unlikely(!__pyx_t_2)) {__pyx_filename = __pyx_f[0]; __pyx_lineno = 11; __pyx_clineno = __LINE__; goto __pyx_L1_error;}</span>\n",
       "          <span class='refnanny'>__Pyx_GOTREF</span>(__pyx_t_2);\n",
       "          __pyx_t_4 = <span class='pyx_c_api'>__Pyx_PyInt_From_unsigned_int</span>(__pyx_v_mm);<span class='error_goto'> if (unlikely(!__pyx_t_4)) {__pyx_filename = __pyx_f[0]; __pyx_lineno = 11; __pyx_clineno = __LINE__; goto __pyx_L1_error;}</span>\n",
       "          <span class='refnanny'>__Pyx_GOTREF</span>(__pyx_t_4);\n",
       "          __pyx_t_14 = <span class='pyx_c_api'>__Pyx_GetModuleGlobalName</span>(__pyx_n_s_pi);<span class='error_goto'> if (unlikely(!__pyx_t_14)) {__pyx_filename = __pyx_f[0]; __pyx_lineno = 11; __pyx_clineno = __LINE__; goto __pyx_L1_error;}</span>\n",
       "          <span class='refnanny'>__Pyx_GOTREF</span>(__pyx_t_14);\n",
       "          __pyx_t_15 = <span class='py_c_api'>PyNumber_Multiply</span>(__pyx_t_4, __pyx_t_14);<span class='error_goto'> if (unlikely(!__pyx_t_15)) {__pyx_filename = __pyx_f[0]; __pyx_lineno = 11; __pyx_clineno = __LINE__; goto __pyx_L1_error;}</span>\n",
       "          <span class='refnanny'>__Pyx_GOTREF</span>(__pyx_t_15);\n",
       "          <span class='pyx_macro_api'>__Pyx_DECREF</span>(__pyx_t_4); __pyx_t_4 = 0;\n",
       "          <span class='pyx_macro_api'>__Pyx_DECREF</span>(__pyx_t_14); __pyx_t_14 = 0;\n",
       "          __pyx_t_14 = <span class='py_c_api'>PyNumber_Multiply</span>(__pyx_t_15, __pyx_v_xi);<span class='error_goto'> if (unlikely(!__pyx_t_14)) {__pyx_filename = __pyx_f[0]; __pyx_lineno = 11; __pyx_clineno = __LINE__; goto __pyx_L1_error;}</span>\n",
       "          <span class='refnanny'>__Pyx_GOTREF</span>(__pyx_t_14);\n",
       "          <span class='pyx_macro_api'>__Pyx_DECREF</span>(__pyx_t_15); __pyx_t_15 = 0;\n",
       "          __pyx_t_15 = <span class='pyx_c_api'>__Pyx_PyNumber_Divide</span>(__pyx_t_14, __pyx_v_a);<span class='error_goto'> if (unlikely(!__pyx_t_15)) {__pyx_filename = __pyx_f[0]; __pyx_lineno = 11; __pyx_clineno = __LINE__; goto __pyx_L1_error;}</span>\n",
       "          <span class='refnanny'>__Pyx_GOTREF</span>(__pyx_t_15);\n",
       "          <span class='pyx_macro_api'>__Pyx_DECREF</span>(__pyx_t_14); __pyx_t_14 = 0;\n",
       "          __pyx_t_14 = NULL;\n",
       "          if (CYTHON_COMPILING_IN_CPYTHON &amp;&amp; unlikely(<span class='py_c_api'>PyMethod_Check</span>(__pyx_t_2))) {\n",
       "            __pyx_t_14 = <span class='py_macro_api'>PyMethod_GET_SELF</span>(__pyx_t_2);\n",
       "            if (likely(__pyx_t_14)) {\n",
       "              PyObject* function = <span class='py_macro_api'>PyMethod_GET_FUNCTION</span>(__pyx_t_2);\n",
       "              <span class='pyx_macro_api'>__Pyx_INCREF</span>(__pyx_t_14);\n",
       "              <span class='pyx_macro_api'>__Pyx_INCREF</span>(function);\n",
       "              <span class='pyx_macro_api'>__Pyx_DECREF_SET</span>(__pyx_t_2, function);\n",
       "            }\n",
       "          }\n",
       "          if (!__pyx_t_14) {\n",
       "            __pyx_t_3 = <span class='pyx_c_api'>__Pyx_PyObject_CallOneArg</span>(__pyx_t_2, __pyx_t_15);<span class='error_goto'> if (unlikely(!__pyx_t_3)) {__pyx_filename = __pyx_f[0]; __pyx_lineno = 11; __pyx_clineno = __LINE__; goto __pyx_L1_error;}</span>\n",
       "            <span class='pyx_macro_api'>__Pyx_DECREF</span>(__pyx_t_15); __pyx_t_15 = 0;\n",
       "            <span class='refnanny'>__Pyx_GOTREF</span>(__pyx_t_3);\n",
       "          } else {\n",
       "            __pyx_t_4 = <span class='py_c_api'>PyTuple_New</span>(1+1);<span class='error_goto'> if (unlikely(!__pyx_t_4)) {__pyx_filename = __pyx_f[0]; __pyx_lineno = 11; __pyx_clineno = __LINE__; goto __pyx_L1_error;}</span>\n",
       "            <span class='refnanny'>__Pyx_GOTREF</span>(__pyx_t_4);\n",
       "            <span class='py_macro_api'>PyTuple_SET_ITEM</span>(__pyx_t_4, 0, __pyx_t_14); <span class='refnanny'>__Pyx_GIVEREF</span>(__pyx_t_14); __pyx_t_14 = NULL;\n",
       "            <span class='py_macro_api'>PyTuple_SET_ITEM</span>(__pyx_t_4, 0+1, __pyx_t_15);\n",
       "            <span class='refnanny'>__Pyx_GIVEREF</span>(__pyx_t_15);\n",
       "            __pyx_t_15 = 0;\n",
       "            __pyx_t_3 = <span class='pyx_c_api'>__Pyx_PyObject_Call</span>(__pyx_t_2, __pyx_t_4, NULL);<span class='error_goto'> if (unlikely(!__pyx_t_3)) {__pyx_filename = __pyx_f[0]; __pyx_lineno = 11; __pyx_clineno = __LINE__; goto __pyx_L1_error;}</span>\n",
       "            <span class='refnanny'>__Pyx_GOTREF</span>(__pyx_t_3);\n",
       "            <span class='pyx_macro_api'>__Pyx_DECREF</span>(__pyx_t_4); __pyx_t_4 = 0;\n",
       "          }\n",
       "          <span class='pyx_macro_api'>__Pyx_DECREF</span>(__pyx_t_2); __pyx_t_2 = 0;\n",
       "          __pyx_t_2 = <span class='py_c_api'>PyNumber_Multiply</span>(__pyx_t_1, __pyx_t_3);<span class='error_goto'> if (unlikely(!__pyx_t_2)) {__pyx_filename = __pyx_f[0]; __pyx_lineno = 11; __pyx_clineno = __LINE__; goto __pyx_L1_error;}</span>\n",
       "          <span class='refnanny'>__Pyx_GOTREF</span>(__pyx_t_2);\n",
       "          <span class='pyx_macro_api'>__Pyx_DECREF</span>(__pyx_t_1); __pyx_t_1 = 0;\n",
       "          <span class='pyx_macro_api'>__Pyx_DECREF</span>(__pyx_t_3); __pyx_t_3 = 0;\n",
       "          __pyx_t_1 = <span class='pyx_c_api'>__Pyx_GetModuleGlobalName</span>(__pyx_n_s_sin);<span class='error_goto'> if (unlikely(!__pyx_t_1)) {__pyx_filename = __pyx_f[0]; __pyx_lineno = 11; __pyx_clineno = __LINE__; goto __pyx_L1_error;}</span>\n",
       "          <span class='refnanny'>__Pyx_GOTREF</span>(__pyx_t_1);\n",
       "          __pyx_t_4 = <span class='pyx_c_api'>__Pyx_PyInt_From_unsigned_int</span>(__pyx_v_nn);<span class='error_goto'> if (unlikely(!__pyx_t_4)) {__pyx_filename = __pyx_f[0]; __pyx_lineno = 11; __pyx_clineno = __LINE__; goto __pyx_L1_error;}</span>\n",
       "          <span class='refnanny'>__Pyx_GOTREF</span>(__pyx_t_4);\n",
       "          __pyx_t_15 = <span class='pyx_c_api'>__Pyx_GetModuleGlobalName</span>(__pyx_n_s_pi);<span class='error_goto'> if (unlikely(!__pyx_t_15)) {__pyx_filename = __pyx_f[0]; __pyx_lineno = 11; __pyx_clineno = __LINE__; goto __pyx_L1_error;}</span>\n",
       "          <span class='refnanny'>__Pyx_GOTREF</span>(__pyx_t_15);\n",
       "          __pyx_t_14 = <span class='py_c_api'>PyNumber_Multiply</span>(__pyx_t_4, __pyx_t_15);<span class='error_goto'> if (unlikely(!__pyx_t_14)) {__pyx_filename = __pyx_f[0]; __pyx_lineno = 11; __pyx_clineno = __LINE__; goto __pyx_L1_error;}</span>\n",
       "          <span class='refnanny'>__Pyx_GOTREF</span>(__pyx_t_14);\n",
       "          <span class='pyx_macro_api'>__Pyx_DECREF</span>(__pyx_t_4); __pyx_t_4 = 0;\n",
       "          <span class='pyx_macro_api'>__Pyx_DECREF</span>(__pyx_t_15); __pyx_t_15 = 0;\n",
       "          __pyx_t_15 = <span class='py_c_api'>PyNumber_Multiply</span>(__pyx_t_14, __pyx_v_eta);<span class='error_goto'> if (unlikely(!__pyx_t_15)) {__pyx_filename = __pyx_f[0]; __pyx_lineno = 11; __pyx_clineno = __LINE__; goto __pyx_L1_error;}</span>\n",
       "          <span class='refnanny'>__Pyx_GOTREF</span>(__pyx_t_15);\n",
       "          <span class='pyx_macro_api'>__Pyx_DECREF</span>(__pyx_t_14); __pyx_t_14 = 0;\n",
       "          __pyx_t_14 = <span class='pyx_c_api'>__Pyx_PyNumber_Divide</span>(__pyx_t_15, __pyx_v_b);<span class='error_goto'> if (unlikely(!__pyx_t_14)) {__pyx_filename = __pyx_f[0]; __pyx_lineno = 11; __pyx_clineno = __LINE__; goto __pyx_L1_error;}</span>\n",
       "          <span class='refnanny'>__Pyx_GOTREF</span>(__pyx_t_14);\n",
       "          <span class='pyx_macro_api'>__Pyx_DECREF</span>(__pyx_t_15); __pyx_t_15 = 0;\n",
       "          __pyx_t_15 = NULL;\n",
       "          if (CYTHON_COMPILING_IN_CPYTHON &amp;&amp; unlikely(<span class='py_c_api'>PyMethod_Check</span>(__pyx_t_1))) {\n",
       "            __pyx_t_15 = <span class='py_macro_api'>PyMethod_GET_SELF</span>(__pyx_t_1);\n",
       "            if (likely(__pyx_t_15)) {\n",
       "              PyObject* function = <span class='py_macro_api'>PyMethod_GET_FUNCTION</span>(__pyx_t_1);\n",
       "              <span class='pyx_macro_api'>__Pyx_INCREF</span>(__pyx_t_15);\n",
       "              <span class='pyx_macro_api'>__Pyx_INCREF</span>(function);\n",
       "              <span class='pyx_macro_api'>__Pyx_DECREF_SET</span>(__pyx_t_1, function);\n",
       "            }\n",
       "          }\n",
       "          if (!__pyx_t_15) {\n",
       "            __pyx_t_3 = <span class='pyx_c_api'>__Pyx_PyObject_CallOneArg</span>(__pyx_t_1, __pyx_t_14);<span class='error_goto'> if (unlikely(!__pyx_t_3)) {__pyx_filename = __pyx_f[0]; __pyx_lineno = 11; __pyx_clineno = __LINE__; goto __pyx_L1_error;}</span>\n",
       "            <span class='pyx_macro_api'>__Pyx_DECREF</span>(__pyx_t_14); __pyx_t_14 = 0;\n",
       "            <span class='refnanny'>__Pyx_GOTREF</span>(__pyx_t_3);\n",
       "          } else {\n",
       "            __pyx_t_4 = <span class='py_c_api'>PyTuple_New</span>(1+1);<span class='error_goto'> if (unlikely(!__pyx_t_4)) {__pyx_filename = __pyx_f[0]; __pyx_lineno = 11; __pyx_clineno = __LINE__; goto __pyx_L1_error;}</span>\n",
       "            <span class='refnanny'>__Pyx_GOTREF</span>(__pyx_t_4);\n",
       "            <span class='py_macro_api'>PyTuple_SET_ITEM</span>(__pyx_t_4, 0, __pyx_t_15); <span class='refnanny'>__Pyx_GIVEREF</span>(__pyx_t_15); __pyx_t_15 = NULL;\n",
       "            <span class='py_macro_api'>PyTuple_SET_ITEM</span>(__pyx_t_4, 0+1, __pyx_t_14);\n",
       "            <span class='refnanny'>__Pyx_GIVEREF</span>(__pyx_t_14);\n",
       "            __pyx_t_14 = 0;\n",
       "            __pyx_t_3 = <span class='pyx_c_api'>__Pyx_PyObject_Call</span>(__pyx_t_1, __pyx_t_4, NULL);<span class='error_goto'> if (unlikely(!__pyx_t_3)) {__pyx_filename = __pyx_f[0]; __pyx_lineno = 11; __pyx_clineno = __LINE__; goto __pyx_L1_error;}</span>\n",
       "            <span class='refnanny'>__Pyx_GOTREF</span>(__pyx_t_3);\n",
       "            <span class='pyx_macro_api'>__Pyx_DECREF</span>(__pyx_t_4); __pyx_t_4 = 0;\n",
       "          }\n",
       "          <span class='pyx_macro_api'>__Pyx_DECREF</span>(__pyx_t_1); __pyx_t_1 = 0;\n",
       "          __pyx_t_1 = <span class='py_c_api'>PyNumber_Multiply</span>(__pyx_t_2, __pyx_t_3);<span class='error_goto'> if (unlikely(!__pyx_t_1)) {__pyx_filename = __pyx_f[0]; __pyx_lineno = 11; __pyx_clineno = __LINE__; goto __pyx_L1_error;}</span>\n",
       "          <span class='refnanny'>__Pyx_GOTREF</span>(__pyx_t_1);\n",
       "          <span class='pyx_macro_api'>__Pyx_DECREF</span>(__pyx_t_2); __pyx_t_2 = 0;\n",
       "          <span class='pyx_macro_api'>__Pyx_DECREF</span>(__pyx_t_3); __pyx_t_3 = 0;\n",
       "          __pyx_t_3 = <span class='py_c_api'>PyNumber_Multiply</span>(__pyx_v_a, __pyx_v_b);<span class='error_goto'> if (unlikely(!__pyx_t_3)) {__pyx_filename = __pyx_f[0]; __pyx_lineno = 11; __pyx_clineno = __LINE__; goto __pyx_L1_error;}</span>\n",
       "          <span class='refnanny'>__Pyx_GOTREF</span>(__pyx_t_3);\n",
       "          __pyx_t_2 = <span class='pyx_c_api'>__Pyx_PyNumber_Divide</span>(__pyx_t_1, __pyx_t_3);<span class='error_goto'> if (unlikely(!__pyx_t_2)) {__pyx_filename = __pyx_f[0]; __pyx_lineno = 11; __pyx_clineno = __LINE__; goto __pyx_L1_error;}</span>\n",
       "          <span class='refnanny'>__Pyx_GOTREF</span>(__pyx_t_2);\n",
       "          <span class='pyx_macro_api'>__Pyx_DECREF</span>(__pyx_t_1); __pyx_t_1 = 0;\n",
       "          <span class='pyx_macro_api'>__Pyx_DECREF</span>(__pyx_t_3); __pyx_t_3 = 0;\n",
       "          <span class='pyx_macro_api'>__Pyx_XDECREF_SET</span>(__pyx_v_a_mn, __pyx_t_2);\n",
       "          __pyx_t_2 = 0;\n",
       "</pre><pre class='cython line score-68' onclick='toggleDiv(this)'>+12:                     <span class=\"n\">ww</span><span class=\"p\">[</span><span class=\"n\">ii</span><span class=\"p\">,</span> <span class=\"n\">jj</span><span class=\"p\">]</span> <span class=\"o\">+=</span> <span class=\"p\">(</span><span class=\"n\">a_mn</span> <span class=\"o\">/</span> <span class=\"p\">(</span><span class=\"n\">mm</span><span class=\"o\">**</span><span class=\"mf\">2</span> <span class=\"o\">/</span> <span class=\"n\">a</span><span class=\"o\">**</span><span class=\"mf\">2</span> <span class=\"o\">+</span> <span class=\"n\">nn</span><span class=\"o\">**</span><span class=\"mf\">2</span> <span class=\"o\">/</span> <span class=\"n\">b</span><span class=\"o\">**</span><span class=\"mf\">2</span><span class=\"p\">)</span><span class=\"o\">**</span><span class=\"mf\">2</span></pre>\n",
       "<pre class='cython code score-68'>          __pyx_t_2 = <span class='pyx_c_api'>__Pyx_PyInt_From_unsigned_int</span>(__pyx_v_ii);<span class='error_goto'> if (unlikely(!__pyx_t_2)) {__pyx_filename = __pyx_f[0]; __pyx_lineno = 12; __pyx_clineno = __LINE__; goto __pyx_L1_error;}</span>\n",
       "          <span class='refnanny'>__Pyx_GOTREF</span>(__pyx_t_2);\n",
       "          __pyx_t_3 = <span class='pyx_c_api'>__Pyx_PyInt_From_unsigned_int</span>(__pyx_v_jj);<span class='error_goto'> if (unlikely(!__pyx_t_3)) {__pyx_filename = __pyx_f[0]; __pyx_lineno = 12; __pyx_clineno = __LINE__; goto __pyx_L1_error;}</span>\n",
       "          <span class='refnanny'>__Pyx_GOTREF</span>(__pyx_t_3);\n",
       "          __pyx_t_1 = <span class='py_c_api'>PyTuple_New</span>(2);<span class='error_goto'> if (unlikely(!__pyx_t_1)) {__pyx_filename = __pyx_f[0]; __pyx_lineno = 12; __pyx_clineno = __LINE__; goto __pyx_L1_error;}</span>\n",
       "          <span class='refnanny'>__Pyx_GOTREF</span>(__pyx_t_1);\n",
       "          <span class='py_macro_api'>PyTuple_SET_ITEM</span>(__pyx_t_1, 0, __pyx_t_2);\n",
       "          <span class='refnanny'>__Pyx_GIVEREF</span>(__pyx_t_2);\n",
       "          <span class='py_macro_api'>PyTuple_SET_ITEM</span>(__pyx_t_1, 1, __pyx_t_3);\n",
       "          <span class='refnanny'>__Pyx_GIVEREF</span>(__pyx_t_3);\n",
       "          __pyx_t_2 = 0;\n",
       "          __pyx_t_3 = 0;\n",
       "          __pyx_t_3 = <span class='py_c_api'>PyObject_GetItem</span>(__pyx_v_ww, __pyx_t_1);<span class='error_goto'> if (unlikely(__pyx_t_3 == NULL)) {__pyx_filename = __pyx_f[0]; __pyx_lineno = 12; __pyx_clineno = __LINE__; goto __pyx_L1_error;}</span>;\n",
       "          <span class='refnanny'>__Pyx_GOTREF</span>(__pyx_t_3);\n",
       "          __pyx_t_2 = <span class='pyx_c_api'>__Pyx_PyInt_From_long</span>(__Pyx_pow_long(((long)__pyx_v_mm), 2));<span class='error_goto'> if (unlikely(!__pyx_t_2)) {__pyx_filename = __pyx_f[0]; __pyx_lineno = 12; __pyx_clineno = __LINE__; goto __pyx_L1_error;}</span>\n",
       "          <span class='refnanny'>__Pyx_GOTREF</span>(__pyx_t_2);\n",
       "          __pyx_t_4 = <span class='py_c_api'>PyNumber_Power</span>(__pyx_v_a, __pyx_int_2, Py_None);<span class='error_goto'> if (unlikely(!__pyx_t_4)) {__pyx_filename = __pyx_f[0]; __pyx_lineno = 12; __pyx_clineno = __LINE__; goto __pyx_L1_error;}</span>\n",
       "          <span class='refnanny'>__Pyx_GOTREF</span>(__pyx_t_4);\n",
       "          __pyx_t_14 = <span class='pyx_c_api'>__Pyx_PyNumber_Divide</span>(__pyx_t_2, __pyx_t_4);<span class='error_goto'> if (unlikely(!__pyx_t_14)) {__pyx_filename = __pyx_f[0]; __pyx_lineno = 12; __pyx_clineno = __LINE__; goto __pyx_L1_error;}</span>\n",
       "          <span class='refnanny'>__Pyx_GOTREF</span>(__pyx_t_14);\n",
       "          <span class='pyx_macro_api'>__Pyx_DECREF</span>(__pyx_t_2); __pyx_t_2 = 0;\n",
       "          <span class='pyx_macro_api'>__Pyx_DECREF</span>(__pyx_t_4); __pyx_t_4 = 0;\n",
       "          __pyx_t_4 = <span class='pyx_c_api'>__Pyx_PyInt_From_long</span>(__Pyx_pow_long(((long)__pyx_v_nn), 2));<span class='error_goto'> if (unlikely(!__pyx_t_4)) {__pyx_filename = __pyx_f[0]; __pyx_lineno = 12; __pyx_clineno = __LINE__; goto __pyx_L1_error;}</span>\n",
       "          <span class='refnanny'>__Pyx_GOTREF</span>(__pyx_t_4);\n",
       "          __pyx_t_2 = <span class='py_c_api'>PyNumber_Power</span>(__pyx_v_b, __pyx_int_2, Py_None);<span class='error_goto'> if (unlikely(!__pyx_t_2)) {__pyx_filename = __pyx_f[0]; __pyx_lineno = 12; __pyx_clineno = __LINE__; goto __pyx_L1_error;}</span>\n",
       "          <span class='refnanny'>__Pyx_GOTREF</span>(__pyx_t_2);\n",
       "          __pyx_t_15 = <span class='pyx_c_api'>__Pyx_PyNumber_Divide</span>(__pyx_t_4, __pyx_t_2);<span class='error_goto'> if (unlikely(!__pyx_t_15)) {__pyx_filename = __pyx_f[0]; __pyx_lineno = 12; __pyx_clineno = __LINE__; goto __pyx_L1_error;}</span>\n",
       "          <span class='refnanny'>__Pyx_GOTREF</span>(__pyx_t_15);\n",
       "          <span class='pyx_macro_api'>__Pyx_DECREF</span>(__pyx_t_4); __pyx_t_4 = 0;\n",
       "          <span class='pyx_macro_api'>__Pyx_DECREF</span>(__pyx_t_2); __pyx_t_2 = 0;\n",
       "          __pyx_t_2 = <span class='py_c_api'>PyNumber_Add</span>(__pyx_t_14, __pyx_t_15);<span class='error_goto'> if (unlikely(!__pyx_t_2)) {__pyx_filename = __pyx_f[0]; __pyx_lineno = 12; __pyx_clineno = __LINE__; goto __pyx_L1_error;}</span>\n",
       "          <span class='refnanny'>__Pyx_GOTREF</span>(__pyx_t_2);\n",
       "          <span class='pyx_macro_api'>__Pyx_DECREF</span>(__pyx_t_14); __pyx_t_14 = 0;\n",
       "          <span class='pyx_macro_api'>__Pyx_DECREF</span>(__pyx_t_15); __pyx_t_15 = 0;\n",
       "          __pyx_t_15 = <span class='py_c_api'>PyNumber_Power</span>(__pyx_t_2, __pyx_int_2, Py_None);<span class='error_goto'> if (unlikely(!__pyx_t_15)) {__pyx_filename = __pyx_f[0]; __pyx_lineno = 12; __pyx_clineno = __LINE__; goto __pyx_L1_error;}</span>\n",
       "          <span class='refnanny'>__Pyx_GOTREF</span>(__pyx_t_15);\n",
       "          <span class='pyx_macro_api'>__Pyx_DECREF</span>(__pyx_t_2); __pyx_t_2 = 0;\n",
       "          __pyx_t_2 = <span class='pyx_c_api'>__Pyx_PyNumber_Divide</span>(__pyx_v_a_mn, __pyx_t_15);<span class='error_goto'> if (unlikely(!__pyx_t_2)) {__pyx_filename = __pyx_f[0]; __pyx_lineno = 12; __pyx_clineno = __LINE__; goto __pyx_L1_error;}</span>\n",
       "          <span class='refnanny'>__Pyx_GOTREF</span>(__pyx_t_2);\n",
       "          <span class='pyx_macro_api'>__Pyx_DECREF</span>(__pyx_t_15); __pyx_t_15 = 0;\n",
       "/* … */\n",
       "          __pyx_t_15 = <span class='py_c_api'>PyNumber_InPlaceAdd</span>(__pyx_t_3, __pyx_t_14);<span class='error_goto'> if (unlikely(!__pyx_t_15)) {__pyx_filename = __pyx_f[0]; __pyx_lineno = 12; __pyx_clineno = __LINE__; goto __pyx_L1_error;}</span>\n",
       "          <span class='refnanny'>__Pyx_GOTREF</span>(__pyx_t_15);\n",
       "          <span class='pyx_macro_api'>__Pyx_DECREF</span>(__pyx_t_3); __pyx_t_3 = 0;\n",
       "          <span class='pyx_macro_api'>__Pyx_DECREF</span>(__pyx_t_14); __pyx_t_14 = 0;\n",
       "          if (unlikely(<span class='py_c_api'>PyObject_SetItem</span>(__pyx_v_ww, __pyx_t_1, __pyx_t_15) &lt; 0)) <span class='error_goto'>{__pyx_filename = __pyx_f[0]; __pyx_lineno = 12; __pyx_clineno = __LINE__; goto __pyx_L1_error;}</span>\n",
       "          <span class='pyx_macro_api'>__Pyx_DECREF</span>(__pyx_t_15); __pyx_t_15 = 0;\n",
       "          <span class='pyx_macro_api'>__Pyx_DECREF</span>(__pyx_t_1); __pyx_t_1 = 0;\n",
       "        }\n",
       "      }\n",
       "    }\n",
       "  }\n",
       "</pre><pre class='cython line score-71' onclick='toggleDiv(this)'>+13:                                    <span class=\"o\">*</span> <span class=\"n\">sin</span><span class=\"p\">(</span><span class=\"n\">mm</span> <span class=\"o\">*</span> <span class=\"n\">pi</span> <span class=\"o\">*</span> <span class=\"n\">xx</span><span class=\"p\">[</span><span class=\"n\">ii</span><span class=\"p\">,</span> <span class=\"n\">jj</span><span class=\"p\">]</span> <span class=\"o\">/</span> <span class=\"n\">a</span><span class=\"p\">)</span></pre>\n",
       "<pre class='cython code score-71'>          __pyx_t_14 = <span class='pyx_c_api'>__Pyx_GetModuleGlobalName</span>(__pyx_n_s_sin);<span class='error_goto'> if (unlikely(!__pyx_t_14)) {__pyx_filename = __pyx_f[0]; __pyx_lineno = 13; __pyx_clineno = __LINE__; goto __pyx_L1_error;}</span>\n",
       "          <span class='refnanny'>__Pyx_GOTREF</span>(__pyx_t_14);\n",
       "          __pyx_t_4 = <span class='pyx_c_api'>__Pyx_PyInt_From_unsigned_int</span>(__pyx_v_mm);<span class='error_goto'> if (unlikely(!__pyx_t_4)) {__pyx_filename = __pyx_f[0]; __pyx_lineno = 13; __pyx_clineno = __LINE__; goto __pyx_L1_error;}</span>\n",
       "          <span class='refnanny'>__Pyx_GOTREF</span>(__pyx_t_4);\n",
       "          __pyx_t_16 = <span class='pyx_c_api'>__Pyx_GetModuleGlobalName</span>(__pyx_n_s_pi);<span class='error_goto'> if (unlikely(!__pyx_t_16)) {__pyx_filename = __pyx_f[0]; __pyx_lineno = 13; __pyx_clineno = __LINE__; goto __pyx_L1_error;}</span>\n",
       "          <span class='refnanny'>__Pyx_GOTREF</span>(__pyx_t_16);\n",
       "          __pyx_t_17 = <span class='py_c_api'>PyNumber_Multiply</span>(__pyx_t_4, __pyx_t_16);<span class='error_goto'> if (unlikely(!__pyx_t_17)) {__pyx_filename = __pyx_f[0]; __pyx_lineno = 13; __pyx_clineno = __LINE__; goto __pyx_L1_error;}</span>\n",
       "          <span class='refnanny'>__Pyx_GOTREF</span>(__pyx_t_17);\n",
       "          <span class='pyx_macro_api'>__Pyx_DECREF</span>(__pyx_t_4); __pyx_t_4 = 0;\n",
       "          <span class='pyx_macro_api'>__Pyx_DECREF</span>(__pyx_t_16); __pyx_t_16 = 0;\n",
       "          __pyx_t_16 = <span class='pyx_c_api'>__Pyx_PyInt_From_unsigned_int</span>(__pyx_v_ii);<span class='error_goto'> if (unlikely(!__pyx_t_16)) {__pyx_filename = __pyx_f[0]; __pyx_lineno = 13; __pyx_clineno = __LINE__; goto __pyx_L1_error;}</span>\n",
       "          <span class='refnanny'>__Pyx_GOTREF</span>(__pyx_t_16);\n",
       "          __pyx_t_4 = <span class='pyx_c_api'>__Pyx_PyInt_From_unsigned_int</span>(__pyx_v_jj);<span class='error_goto'> if (unlikely(!__pyx_t_4)) {__pyx_filename = __pyx_f[0]; __pyx_lineno = 13; __pyx_clineno = __LINE__; goto __pyx_L1_error;}</span>\n",
       "          <span class='refnanny'>__Pyx_GOTREF</span>(__pyx_t_4);\n",
       "          __pyx_t_18 = <span class='py_c_api'>PyTuple_New</span>(2);<span class='error_goto'> if (unlikely(!__pyx_t_18)) {__pyx_filename = __pyx_f[0]; __pyx_lineno = 13; __pyx_clineno = __LINE__; goto __pyx_L1_error;}</span>\n",
       "          <span class='refnanny'>__Pyx_GOTREF</span>(__pyx_t_18);\n",
       "          <span class='py_macro_api'>PyTuple_SET_ITEM</span>(__pyx_t_18, 0, __pyx_t_16);\n",
       "          <span class='refnanny'>__Pyx_GIVEREF</span>(__pyx_t_16);\n",
       "          <span class='py_macro_api'>PyTuple_SET_ITEM</span>(__pyx_t_18, 1, __pyx_t_4);\n",
       "          <span class='refnanny'>__Pyx_GIVEREF</span>(__pyx_t_4);\n",
       "          __pyx_t_16 = 0;\n",
       "          __pyx_t_4 = 0;\n",
       "          __pyx_t_4 = <span class='py_c_api'>PyObject_GetItem</span>(__pyx_v_xx, __pyx_t_18);<span class='error_goto'> if (unlikely(__pyx_t_4 == NULL)) {__pyx_filename = __pyx_f[0]; __pyx_lineno = 13; __pyx_clineno = __LINE__; goto __pyx_L1_error;}</span>;\n",
       "          <span class='refnanny'>__Pyx_GOTREF</span>(__pyx_t_4);\n",
       "          <span class='pyx_macro_api'>__Pyx_DECREF</span>(__pyx_t_18); __pyx_t_18 = 0;\n",
       "          __pyx_t_18 = <span class='py_c_api'>PyNumber_Multiply</span>(__pyx_t_17, __pyx_t_4);<span class='error_goto'> if (unlikely(!__pyx_t_18)) {__pyx_filename = __pyx_f[0]; __pyx_lineno = 13; __pyx_clineno = __LINE__; goto __pyx_L1_error;}</span>\n",
       "          <span class='refnanny'>__Pyx_GOTREF</span>(__pyx_t_18);\n",
       "          <span class='pyx_macro_api'>__Pyx_DECREF</span>(__pyx_t_17); __pyx_t_17 = 0;\n",
       "          <span class='pyx_macro_api'>__Pyx_DECREF</span>(__pyx_t_4); __pyx_t_4 = 0;\n",
       "          __pyx_t_4 = <span class='pyx_c_api'>__Pyx_PyNumber_Divide</span>(__pyx_t_18, __pyx_v_a);<span class='error_goto'> if (unlikely(!__pyx_t_4)) {__pyx_filename = __pyx_f[0]; __pyx_lineno = 13; __pyx_clineno = __LINE__; goto __pyx_L1_error;}</span>\n",
       "          <span class='refnanny'>__Pyx_GOTREF</span>(__pyx_t_4);\n",
       "          <span class='pyx_macro_api'>__Pyx_DECREF</span>(__pyx_t_18); __pyx_t_18 = 0;\n",
       "          __pyx_t_18 = NULL;\n",
       "          if (CYTHON_COMPILING_IN_CPYTHON &amp;&amp; unlikely(<span class='py_c_api'>PyMethod_Check</span>(__pyx_t_14))) {\n",
       "            __pyx_t_18 = <span class='py_macro_api'>PyMethod_GET_SELF</span>(__pyx_t_14);\n",
       "            if (likely(__pyx_t_18)) {\n",
       "              PyObject* function = <span class='py_macro_api'>PyMethod_GET_FUNCTION</span>(__pyx_t_14);\n",
       "              <span class='pyx_macro_api'>__Pyx_INCREF</span>(__pyx_t_18);\n",
       "              <span class='pyx_macro_api'>__Pyx_INCREF</span>(function);\n",
       "              <span class='pyx_macro_api'>__Pyx_DECREF_SET</span>(__pyx_t_14, function);\n",
       "            }\n",
       "          }\n",
       "          if (!__pyx_t_18) {\n",
       "            __pyx_t_15 = <span class='pyx_c_api'>__Pyx_PyObject_CallOneArg</span>(__pyx_t_14, __pyx_t_4);<span class='error_goto'> if (unlikely(!__pyx_t_15)) {__pyx_filename = __pyx_f[0]; __pyx_lineno = 13; __pyx_clineno = __LINE__; goto __pyx_L1_error;}</span>\n",
       "            <span class='pyx_macro_api'>__Pyx_DECREF</span>(__pyx_t_4); __pyx_t_4 = 0;\n",
       "            <span class='refnanny'>__Pyx_GOTREF</span>(__pyx_t_15);\n",
       "          } else {\n",
       "            __pyx_t_17 = <span class='py_c_api'>PyTuple_New</span>(1+1);<span class='error_goto'> if (unlikely(!__pyx_t_17)) {__pyx_filename = __pyx_f[0]; __pyx_lineno = 13; __pyx_clineno = __LINE__; goto __pyx_L1_error;}</span>\n",
       "            <span class='refnanny'>__Pyx_GOTREF</span>(__pyx_t_17);\n",
       "            <span class='py_macro_api'>PyTuple_SET_ITEM</span>(__pyx_t_17, 0, __pyx_t_18); <span class='refnanny'>__Pyx_GIVEREF</span>(__pyx_t_18); __pyx_t_18 = NULL;\n",
       "            <span class='py_macro_api'>PyTuple_SET_ITEM</span>(__pyx_t_17, 0+1, __pyx_t_4);\n",
       "            <span class='refnanny'>__Pyx_GIVEREF</span>(__pyx_t_4);\n",
       "            __pyx_t_4 = 0;\n",
       "            __pyx_t_15 = <span class='pyx_c_api'>__Pyx_PyObject_Call</span>(__pyx_t_14, __pyx_t_17, NULL);<span class='error_goto'> if (unlikely(!__pyx_t_15)) {__pyx_filename = __pyx_f[0]; __pyx_lineno = 13; __pyx_clineno = __LINE__; goto __pyx_L1_error;}</span>\n",
       "            <span class='refnanny'>__Pyx_GOTREF</span>(__pyx_t_15);\n",
       "            <span class='pyx_macro_api'>__Pyx_DECREF</span>(__pyx_t_17); __pyx_t_17 = 0;\n",
       "          }\n",
       "          <span class='pyx_macro_api'>__Pyx_DECREF</span>(__pyx_t_14); __pyx_t_14 = 0;\n",
       "          __pyx_t_14 = <span class='py_c_api'>PyNumber_Multiply</span>(__pyx_t_2, __pyx_t_15);<span class='error_goto'> if (unlikely(!__pyx_t_14)) {__pyx_filename = __pyx_f[0]; __pyx_lineno = 13; __pyx_clineno = __LINE__; goto __pyx_L1_error;}</span>\n",
       "          <span class='refnanny'>__Pyx_GOTREF</span>(__pyx_t_14);\n",
       "          <span class='pyx_macro_api'>__Pyx_DECREF</span>(__pyx_t_2); __pyx_t_2 = 0;\n",
       "          <span class='pyx_macro_api'>__Pyx_DECREF</span>(__pyx_t_15); __pyx_t_15 = 0;\n",
       "</pre><pre class='cython line score-71' onclick='toggleDiv(this)'>+14:                                    <span class=\"o\">*</span> <span class=\"n\">sin</span><span class=\"p\">(</span><span class=\"n\">nn</span> <span class=\"o\">*</span> <span class=\"n\">pi</span> <span class=\"o\">*</span> <span class=\"n\">yy</span><span class=\"p\">[</span><span class=\"n\">ii</span><span class=\"p\">,</span> <span class=\"n\">jj</span><span class=\"p\">]</span> <span class=\"o\">/</span> <span class=\"n\">b</span><span class=\"p\">)</span></pre>\n",
       "<pre class='cython code score-71'>          __pyx_t_2 = <span class='pyx_c_api'>__Pyx_GetModuleGlobalName</span>(__pyx_n_s_sin);<span class='error_goto'> if (unlikely(!__pyx_t_2)) {__pyx_filename = __pyx_f[0]; __pyx_lineno = 14; __pyx_clineno = __LINE__; goto __pyx_L1_error;}</span>\n",
       "          <span class='refnanny'>__Pyx_GOTREF</span>(__pyx_t_2);\n",
       "          __pyx_t_17 = <span class='pyx_c_api'>__Pyx_PyInt_From_unsigned_int</span>(__pyx_v_nn);<span class='error_goto'> if (unlikely(!__pyx_t_17)) {__pyx_filename = __pyx_f[0]; __pyx_lineno = 14; __pyx_clineno = __LINE__; goto __pyx_L1_error;}</span>\n",
       "          <span class='refnanny'>__Pyx_GOTREF</span>(__pyx_t_17);\n",
       "          __pyx_t_4 = <span class='pyx_c_api'>__Pyx_GetModuleGlobalName</span>(__pyx_n_s_pi);<span class='error_goto'> if (unlikely(!__pyx_t_4)) {__pyx_filename = __pyx_f[0]; __pyx_lineno = 14; __pyx_clineno = __LINE__; goto __pyx_L1_error;}</span>\n",
       "          <span class='refnanny'>__Pyx_GOTREF</span>(__pyx_t_4);\n",
       "          __pyx_t_18 = <span class='py_c_api'>PyNumber_Multiply</span>(__pyx_t_17, __pyx_t_4);<span class='error_goto'> if (unlikely(!__pyx_t_18)) {__pyx_filename = __pyx_f[0]; __pyx_lineno = 14; __pyx_clineno = __LINE__; goto __pyx_L1_error;}</span>\n",
       "          <span class='refnanny'>__Pyx_GOTREF</span>(__pyx_t_18);\n",
       "          <span class='pyx_macro_api'>__Pyx_DECREF</span>(__pyx_t_17); __pyx_t_17 = 0;\n",
       "          <span class='pyx_macro_api'>__Pyx_DECREF</span>(__pyx_t_4); __pyx_t_4 = 0;\n",
       "          __pyx_t_4 = <span class='pyx_c_api'>__Pyx_PyInt_From_unsigned_int</span>(__pyx_v_ii);<span class='error_goto'> if (unlikely(!__pyx_t_4)) {__pyx_filename = __pyx_f[0]; __pyx_lineno = 14; __pyx_clineno = __LINE__; goto __pyx_L1_error;}</span>\n",
       "          <span class='refnanny'>__Pyx_GOTREF</span>(__pyx_t_4);\n",
       "          __pyx_t_17 = <span class='pyx_c_api'>__Pyx_PyInt_From_unsigned_int</span>(__pyx_v_jj);<span class='error_goto'> if (unlikely(!__pyx_t_17)) {__pyx_filename = __pyx_f[0]; __pyx_lineno = 14; __pyx_clineno = __LINE__; goto __pyx_L1_error;}</span>\n",
       "          <span class='refnanny'>__Pyx_GOTREF</span>(__pyx_t_17);\n",
       "          __pyx_t_16 = <span class='py_c_api'>PyTuple_New</span>(2);<span class='error_goto'> if (unlikely(!__pyx_t_16)) {__pyx_filename = __pyx_f[0]; __pyx_lineno = 14; __pyx_clineno = __LINE__; goto __pyx_L1_error;}</span>\n",
       "          <span class='refnanny'>__Pyx_GOTREF</span>(__pyx_t_16);\n",
       "          <span class='py_macro_api'>PyTuple_SET_ITEM</span>(__pyx_t_16, 0, __pyx_t_4);\n",
       "          <span class='refnanny'>__Pyx_GIVEREF</span>(__pyx_t_4);\n",
       "          <span class='py_macro_api'>PyTuple_SET_ITEM</span>(__pyx_t_16, 1, __pyx_t_17);\n",
       "          <span class='refnanny'>__Pyx_GIVEREF</span>(__pyx_t_17);\n",
       "          __pyx_t_4 = 0;\n",
       "          __pyx_t_17 = 0;\n",
       "          __pyx_t_17 = <span class='py_c_api'>PyObject_GetItem</span>(__pyx_v_yy, __pyx_t_16);<span class='error_goto'> if (unlikely(__pyx_t_17 == NULL)) {__pyx_filename = __pyx_f[0]; __pyx_lineno = 14; __pyx_clineno = __LINE__; goto __pyx_L1_error;}</span>;\n",
       "          <span class='refnanny'>__Pyx_GOTREF</span>(__pyx_t_17);\n",
       "          <span class='pyx_macro_api'>__Pyx_DECREF</span>(__pyx_t_16); __pyx_t_16 = 0;\n",
       "          __pyx_t_16 = <span class='py_c_api'>PyNumber_Multiply</span>(__pyx_t_18, __pyx_t_17);<span class='error_goto'> if (unlikely(!__pyx_t_16)) {__pyx_filename = __pyx_f[0]; __pyx_lineno = 14; __pyx_clineno = __LINE__; goto __pyx_L1_error;}</span>\n",
       "          <span class='refnanny'>__Pyx_GOTREF</span>(__pyx_t_16);\n",
       "          <span class='pyx_macro_api'>__Pyx_DECREF</span>(__pyx_t_18); __pyx_t_18 = 0;\n",
       "          <span class='pyx_macro_api'>__Pyx_DECREF</span>(__pyx_t_17); __pyx_t_17 = 0;\n",
       "          __pyx_t_17 = <span class='pyx_c_api'>__Pyx_PyNumber_Divide</span>(__pyx_t_16, __pyx_v_b);<span class='error_goto'> if (unlikely(!__pyx_t_17)) {__pyx_filename = __pyx_f[0]; __pyx_lineno = 14; __pyx_clineno = __LINE__; goto __pyx_L1_error;}</span>\n",
       "          <span class='refnanny'>__Pyx_GOTREF</span>(__pyx_t_17);\n",
       "          <span class='pyx_macro_api'>__Pyx_DECREF</span>(__pyx_t_16); __pyx_t_16 = 0;\n",
       "          __pyx_t_16 = NULL;\n",
       "          if (CYTHON_COMPILING_IN_CPYTHON &amp;&amp; unlikely(<span class='py_c_api'>PyMethod_Check</span>(__pyx_t_2))) {\n",
       "            __pyx_t_16 = <span class='py_macro_api'>PyMethod_GET_SELF</span>(__pyx_t_2);\n",
       "            if (likely(__pyx_t_16)) {\n",
       "              PyObject* function = <span class='py_macro_api'>PyMethod_GET_FUNCTION</span>(__pyx_t_2);\n",
       "              <span class='pyx_macro_api'>__Pyx_INCREF</span>(__pyx_t_16);\n",
       "              <span class='pyx_macro_api'>__Pyx_INCREF</span>(function);\n",
       "              <span class='pyx_macro_api'>__Pyx_DECREF_SET</span>(__pyx_t_2, function);\n",
       "            }\n",
       "          }\n",
       "          if (!__pyx_t_16) {\n",
       "            __pyx_t_15 = <span class='pyx_c_api'>__Pyx_PyObject_CallOneArg</span>(__pyx_t_2, __pyx_t_17);<span class='error_goto'> if (unlikely(!__pyx_t_15)) {__pyx_filename = __pyx_f[0]; __pyx_lineno = 14; __pyx_clineno = __LINE__; goto __pyx_L1_error;}</span>\n",
       "            <span class='pyx_macro_api'>__Pyx_DECREF</span>(__pyx_t_17); __pyx_t_17 = 0;\n",
       "            <span class='refnanny'>__Pyx_GOTREF</span>(__pyx_t_15);\n",
       "          } else {\n",
       "            __pyx_t_18 = <span class='py_c_api'>PyTuple_New</span>(1+1);<span class='error_goto'> if (unlikely(!__pyx_t_18)) {__pyx_filename = __pyx_f[0]; __pyx_lineno = 14; __pyx_clineno = __LINE__; goto __pyx_L1_error;}</span>\n",
       "            <span class='refnanny'>__Pyx_GOTREF</span>(__pyx_t_18);\n",
       "            <span class='py_macro_api'>PyTuple_SET_ITEM</span>(__pyx_t_18, 0, __pyx_t_16); <span class='refnanny'>__Pyx_GIVEREF</span>(__pyx_t_16); __pyx_t_16 = NULL;\n",
       "            <span class='py_macro_api'>PyTuple_SET_ITEM</span>(__pyx_t_18, 0+1, __pyx_t_17);\n",
       "            <span class='refnanny'>__Pyx_GIVEREF</span>(__pyx_t_17);\n",
       "            __pyx_t_17 = 0;\n",
       "            __pyx_t_15 = <span class='pyx_c_api'>__Pyx_PyObject_Call</span>(__pyx_t_2, __pyx_t_18, NULL);<span class='error_goto'> if (unlikely(!__pyx_t_15)) {__pyx_filename = __pyx_f[0]; __pyx_lineno = 14; __pyx_clineno = __LINE__; goto __pyx_L1_error;}</span>\n",
       "            <span class='refnanny'>__Pyx_GOTREF</span>(__pyx_t_15);\n",
       "            <span class='pyx_macro_api'>__Pyx_DECREF</span>(__pyx_t_18); __pyx_t_18 = 0;\n",
       "          }\n",
       "          <span class='pyx_macro_api'>__Pyx_DECREF</span>(__pyx_t_2); __pyx_t_2 = 0;\n",
       "          __pyx_t_2 = <span class='py_c_api'>PyNumber_Multiply</span>(__pyx_t_14, __pyx_t_15);<span class='error_goto'> if (unlikely(!__pyx_t_2)) {__pyx_filename = __pyx_f[0]; __pyx_lineno = 14; __pyx_clineno = __LINE__; goto __pyx_L1_error;}</span>\n",
       "          <span class='refnanny'>__Pyx_GOTREF</span>(__pyx_t_2);\n",
       "          <span class='pyx_macro_api'>__Pyx_DECREF</span>(__pyx_t_14); __pyx_t_14 = 0;\n",
       "          <span class='pyx_macro_api'>__Pyx_DECREF</span>(__pyx_t_15); __pyx_t_15 = 0;\n",
       "</pre><pre class='cython line score-18' onclick='toggleDiv(this)'>+15:                                    <span class=\"o\">/</span> <span class=\"p\">(</span><span class=\"n\">pi</span><span class=\"o\">**</span><span class=\"mf\">4</span> <span class=\"o\">*</span> <span class=\"n\">D</span><span class=\"p\">))</span></pre>\n",
       "<pre class='cython code score-18'>          __pyx_t_15 = <span class='pyx_c_api'>__Pyx_GetModuleGlobalName</span>(__pyx_n_s_pi);<span class='error_goto'> if (unlikely(!__pyx_t_15)) {__pyx_filename = __pyx_f[0]; __pyx_lineno = 15; __pyx_clineno = __LINE__; goto __pyx_L1_error;}</span>\n",
       "          <span class='refnanny'>__Pyx_GOTREF</span>(__pyx_t_15);\n",
       "          __pyx_t_14 = <span class='py_c_api'>PyNumber_Power</span>(__pyx_t_15, __pyx_int_4, Py_None);<span class='error_goto'> if (unlikely(!__pyx_t_14)) {__pyx_filename = __pyx_f[0]; __pyx_lineno = 15; __pyx_clineno = __LINE__; goto __pyx_L1_error;}</span>\n",
       "          <span class='refnanny'>__Pyx_GOTREF</span>(__pyx_t_14);\n",
       "          <span class='pyx_macro_api'>__Pyx_DECREF</span>(__pyx_t_15); __pyx_t_15 = 0;\n",
       "          __pyx_t_15 = <span class='py_c_api'>PyNumber_Multiply</span>(__pyx_t_14, __pyx_v_D);<span class='error_goto'> if (unlikely(!__pyx_t_15)) {__pyx_filename = __pyx_f[0]; __pyx_lineno = 15; __pyx_clineno = __LINE__; goto __pyx_L1_error;}</span>\n",
       "          <span class='refnanny'>__Pyx_GOTREF</span>(__pyx_t_15);\n",
       "          <span class='pyx_macro_api'>__Pyx_DECREF</span>(__pyx_t_14); __pyx_t_14 = 0;\n",
       "          __pyx_t_14 = <span class='pyx_c_api'>__Pyx_PyNumber_Divide</span>(__pyx_t_2, __pyx_t_15);<span class='error_goto'> if (unlikely(!__pyx_t_14)) {__pyx_filename = __pyx_f[0]; __pyx_lineno = 15; __pyx_clineno = __LINE__; goto __pyx_L1_error;}</span>\n",
       "          <span class='refnanny'>__Pyx_GOTREF</span>(__pyx_t_14);\n",
       "          <span class='pyx_macro_api'>__Pyx_DECREF</span>(__pyx_t_2); __pyx_t_2 = 0;\n",
       "          <span class='pyx_macro_api'>__Pyx_DECREF</span>(__pyx_t_15); __pyx_t_15 = 0;\n",
       "</pre></div></body></html>"
      ],
      "text/plain": [
       "<IPython.core.display.HTML object>"
      ]
     },
     "execution_count": 20,
     "metadata": {},
     "output_type": "execute_result"
    }
   ],
   "source": [
    "%%cython --annotate\n",
    "import numpy as np\n",
    "from numpy import sin, pi\n",
    "\n",
    "def plate_displacement_cy2(xx, yy, ww, a, b, P, xi, eta, D, max_m, max_n):\n",
    "    cdef unsigned int max_i, max_j, mm, nn, ii, jj\n",
    "    max_i, max_j = ww.shape\n",
    "    for mm in range(1, max_m):\n",
    "        for nn in range(1, max_n):\n",
    "            for ii in range(max_i):\n",
    "                for jj in range(max_j):\n",
    "                    a_mn = 4 * P * sin(mm * pi * xi / a) * sin(nn * pi * eta / b) / (a * b)\n",
    "                    ww[ii, jj] += (a_mn / (mm**2 / a**2 + nn**2 / b**2)**2\n",
    "                                   * sin(mm * pi * xx[ii, jj] / a)\n",
    "                                   * sin(nn * pi * yy[ii, jj] / b)\n",
    "                                   / (pi**4 * D)) "
   ]
  },
  {
   "cell_type": "markdown",
   "metadata": {},
   "source": [
    "Vaya, parece que no tenemos muchas partes optimizadas, aunque los `for` parece que deberían ser más eficientes ya que aparecen más claros que el resto del código."
   ]
  },
  {
   "cell_type": "markdown",
   "metadata": {},
   "source": [
    "Ahora mismo, haciendo `import numpy as np` tenemos acceso a la funcionalidad Python de numpy. Para poder acceder a la funcionalidad C de numpy hemos de hacer un `cimport` de numpy.\n",
    "\n",
    "El `cimport` se usa para importar información especial del módulo numpy en el momento de compilación. Esta información se encuentra en el fichero numpy.pxd que es parte de la distribución Cython. El `cimport` también se usa para poder importar desde la *stdlib* de C.\n",
    "\n",
    "Vamos a usar esto para declarar el tipo del array de numpy."
   ]
  },
  {
   "cell_type": "code",
   "execution_count": 2,
   "metadata": {
    "collapsed": false
   },
   "outputs": [],
   "source": [
    "%%cython --name probandocython3\n",
    "import numpy as np\n",
    "cimport numpy as np\n",
    "from numpy import sin, pi\n",
    "\n",
    "def plate_displacement_cy3(xx, yy, ww, a, b, P, xi, eta, D, max_m, max_n):\n",
    "    cdef unsigned int max_i, max_j, mm, nn, ii, jj\n",
    "    max_i, max_j = ww.shape\n",
    "    for mm in range(1, max_m):\n",
    "        for nn in range(1, max_n):\n",
    "            for ii in range(max_i):\n",
    "                for jj in range(max_j):\n",
    "                    a_mn = 4 * P * sin(mm * pi * xi / a) * sin(nn * pi * eta / b) / (a * b)\n",
    "                    ww[ii, jj] += (a_mn / (mm**2 / a**2 + nn**2 / b**2)**2\n",
    "                                   * sin(mm * pi * xx[ii, jj] / a)\n",
    "                                   * sin(nn * pi * yy[ii, jj] / b)\n",
    "                                   / (pi**4 * D)) "
   ]
  },
  {
   "cell_type": "code",
   "execution_count": 7,
   "metadata": {
    "collapsed": false
   },
   "outputs": [
    {
     "name": "stdout",
     "output_type": "stream",
     "text": [
      "1 loops, best of 3: 2min 35s per loop\n"
     ]
    }
   ],
   "source": [
    "%timeit plate_displacement_cy3(xx, yy, ww, a, b, P, xi, eta, D, max_m, max_n)"
   ]
  },
  {
   "cell_type": "markdown",
   "metadata": {
    "collapsed": true
   },
   "source": [
    "Seguimos sin estar muy contentos con este resultado. Sigamos iterando."
   ]
  },
  {
   "cell_type": "markdown",
   "metadata": {},
   "source": [
    "# Cython (prueba 4)"
   ]
  },
  {
   "cell_type": "markdown",
   "metadata": {},
   "source": [
    "Podemos usar [directivas de compilación](http://docs.cython.org/src/reference/compilation.html#compiler-directives) que ayuden al compilador a decidir mejor qué es lo que tiene que hacer. Entre ellas se encuentra una opción que es `boundscheck` que evita mirar la posibilidad de obtener `IndexError` asumiendo que el código está libre de estos errores de indexación. Lo vamos a usar conjuntamente con `wraparound`. Esta última opción se encarga de evitar mirar indexaciones relativas al final del iterable (por ejemplo, `mi_iterable[-1]`). En este caso concreto, la segunda opción no aporta nada de mejora de rendimiento pero la dijamos ya que la hemos probado.\n",
    "\n",
    "Estas ***directivas de compilación*** son muy flexibles ya quee las podemos aplicar de forma global, solo a ciertas partes del código,... En este caso las voy a usar como decoradores de la función por lo que solo se aplican a la función:"
   ]
  },
  {
   "cell_type": "code",
   "execution_count": 3,
   "metadata": {
    "collapsed": true
   },
   "outputs": [],
   "source": [
    "%%cython --name probandocython4\n",
    "import numpy as np\n",
    "cimport numpy as np\n",
    "from numpy import sin, pi\n",
    "cimport cython\n",
    "\n",
    "@cython.boundscheck(False) \n",
    "@cython.wraparound(False)\n",
    "def plate_displacement_cy4(xx, yy, ww, a, b, P, xi, eta, D, max_m, max_n):\n",
    "    cdef unsigned int max_i, max_j, mm, nn, ii, jj\n",
    "    max_i, max_j = ww.shape\n",
    "    for mm in range(1, max_m):\n",
    "        for nn in range(1, max_n):\n",
    "            for ii in range(max_i):\n",
    "                for jj in range(max_j):\n",
    "                    a_mn = 4 * P * sin(mm * pi * xi / a) * sin(nn * pi * eta / b) / (a * b)\n",
    "                    ww[ii, jj] += (a_mn / (mm**2 / a**2 + nn**2 / b**2)**2\n",
    "                                   * sin(mm * pi * xx[ii, jj] / a)\n",
    "                                   * sin(nn * pi * yy[ii, jj] / b)\n",
    "                                   / (pi**4 * D)) "
   ]
  },
  {
   "cell_type": "markdown",
   "metadata": {},
   "source": [
    "Y miramos el rendimiento con estas nuevas modificaciones:"
   ]
  },
  {
   "cell_type": "code",
   "execution_count": 7,
   "metadata": {
    "collapsed": false
   },
   "outputs": [
    {
     "name": "stdout",
     "output_type": "stream",
     "text": [
      "1 loops, best of 3: 2min 28s per loop\n"
     ]
    }
   ],
   "source": [
    "%timeit plate_displacement_cy4(xx, yy, ww, a, b, P, xi, eta, D, max_m, max_n)"
   ]
  },
  {
   "cell_type": "code",
   "execution_count": null,
   "metadata": {
    "collapsed": true
   },
   "outputs": [],
   "source": []
  }
 ],
 "metadata": {
  "kernelspec": {
   "display_name": "Python 3",
   "language": "python",
   "name": "python3"
  },
  "language_info": {
   "codemirror_mode": {
    "name": "ipython",
    "version": 3
   },
   "file_extension": ".py",
   "mimetype": "text/x-python",
   "name": "python",
   "nbconvert_exporter": "python",
   "pygments_lexer": "ipython3",
   "version": "3.4.3"
  }
 },
 "nbformat": 4,
 "nbformat_minor": 0
}
