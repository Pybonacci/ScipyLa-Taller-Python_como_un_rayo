{
 "cells": [
  {
   "cell_type": "markdown",
   "metadata": {},
   "source": [
    "# Extras"
   ]
  },
  {
   "cell_type": "markdown",
   "metadata": {},
   "source": [
    "Vamos a ver muy brevemente algunas herramientas más que podemos utilizar a la hora de acelerar nuestro código Python."
   ]
  },
  {
   "cell_type": "markdown",
   "metadata": {},
   "source": [
    "## f2py\n",
    "\n",
    "f2py es una herramienta que crea un wrapper en Python de funciones escritas en Fortran. Se originó en el proyecto SciPy como forma de reutilizar código científico maduro ya existente y actualmente forma parte de NumPy.\n",
    "\n",
    "* Guía de usuario: http://docs.scipy.org/doc/numpy/f2py/index.html\n",
    "* Tutorial en Pybonacci: http://pybonacci.org/2013/02/22/integrar-fortran-con-python-usando-f2py/\n",
    "\n",
    "![f2py](static/f2py.png)\n",
    "\n",
    "(Fuente: www.ucs.cam.ac.uk/docs/course-notes/unix-courses/pythonfortran)"
   ]
  },
  {
   "cell_type": "code",
   "execution_count": 6,
   "metadata": {
    "collapsed": false
   },
   "outputs": [
    {
     "name": "stdout",
     "output_type": "stream",
     "text": [
      "Writing vectores.f90\n"
     ]
    }
   ],
   "source": [
    "%%file vectores.f90\n",
    "module vectores\n",
    " \n",
    "    implicit none\n",
    " \n",
    "    contains\n",
    " \n",
    "    ! Producto escalar entre dos vectores u, v de longitud n\n",
    "    function producto_escalar(n, u, v) result(p)\n",
    " \n",
    "        integer, intent(in) :: n\n",
    "        double precision, intent(in) :: u(n), v(n)\n",
    "        double precision :: p\n",
    " \n",
    "        p = dot_product(u, v)\n",
    " \n",
    "    end function\n",
    " \n",
    "    ! Producto vectorial entre dos vectores u, v de longitud 3\n",
    "    function producto_vectorial(u, v) result(w)\n",
    " \n",
    "        double precision, intent(in) :: u(3), v(3)\n",
    "        double precision :: w(3)\n",
    " \n",
    "        w(1) = u(2) * v(3) - u(3) * v(2)\n",
    "        w(2) = u(3) * v(1) - u(1) * v(3)\n",
    "        w(3) = u(1) * v(2) - u(2) * v(1)\n",
    " \n",
    "    end function\n",
    " \n",
    "end module"
   ]
  },
  {
   "cell_type": "code",
   "execution_count": 8,
   "metadata": {
    "collapsed": false,
    "scrolled": true
   },
   "outputs": [
    {
     "name": "stdout",
     "output_type": "stream",
     "text": [
      "\u001b[39mrunning build\u001b[0m\n",
      "\u001b[39mrunning config_cc\u001b[0m\n",
      "\u001b[39munifing config_cc, config, build_clib, build_ext, build commands --compiler options\u001b[0m\n",
      "\u001b[39mrunning config_fc\u001b[0m\n",
      "\u001b[39munifing config_fc, config, build_clib, build_ext, build commands --fcompiler options\u001b[0m\n",
      "\u001b[39mrunning build_src\u001b[0m\n",
      "\u001b[39mbuild_src\u001b[0m\n",
      "\u001b[39mbuilding extension \"vectores\" sources\u001b[0m\n",
      "\u001b[39mf2py options: []\u001b[0m\n",
      "\u001b[39mf2py:> /tmp/tmpyf5wbz5o/src.linux-x86_64-3.4/vectoresmodule.c\u001b[0m\n",
      "\u001b[39mcreating /tmp/tmpyf5wbz5o/src.linux-x86_64-3.4\u001b[0m\n",
      "Reading fortran codes...\n",
      "\tReading file 'vectores.f90' (format:free)\n",
      "Post-processing...\n",
      "\tBlock: vectores\n",
      "\t\t\tBlock: vectores\n",
      "\t\t\t\tBlock: producto_escalar\n",
      "\t\t\t\tBlock: producto_vectorial\n",
      "appenddecl: \"dimension\" not implemented.\n",
      "Post-processing (stage 2)...\n",
      "\tBlock: vectores\n",
      "\t\tBlock: unknown_interface\n",
      "\t\t\tBlock: vectores\n",
      "\t\t\t\tBlock: producto_escalar\n",
      "\t\t\t\tBlock: producto_vectorial\n",
      "Building modules...\n",
      "\tBuilding module \"vectores\"...\n",
      "\t\tConstructing F90 module support for \"vectores\"...\n",
      "\t\tCreating wrapper for Fortran function \"producto_escalar\"(\"producto_escalar\")...\n",
      "\t\t\tConstructing wrapper function \"vectores.producto_escalar\"...\n",
      "\t\t\t  p = producto_escalar(u,v,[n])\n",
      "\t\tCreating wrapper for Fortran function \"producto_vectorial\"(\"producto_vectorial\")...\n",
      "\t\t\tConstructing wrapper function \"vectores.producto_vectorial\"...\n",
      "\t\t\t  w = producto_vectorial(u,v)\n",
      "\tWrote C/API module \"vectores\" to file \"/tmp/tmpyf5wbz5o/src.linux-x86_64-3.4/vectoresmodule.c\"\n",
      "\tFortran 90 wrappers are saved to \"/tmp/tmpyf5wbz5o/src.linux-x86_64-3.4/vectores-f2pywrappers2.f90\"\n",
      "\u001b[39m  adding '/tmp/tmpyf5wbz5o/src.linux-x86_64-3.4/fortranobject.c' to sources.\u001b[0m\n",
      "\u001b[39m  adding '/tmp/tmpyf5wbz5o/src.linux-x86_64-3.4' to include_dirs.\u001b[0m\n",
      "\u001b[39mcopying /home/juanlu/.miniconda3/envs/py34/lib/python3.4/site-packages/numpy/f2py/src/fortranobject.c -> /tmp/tmpyf5wbz5o/src.linux-x86_64-3.4\u001b[0m\n",
      "\u001b[39mcopying /home/juanlu/.miniconda3/envs/py34/lib/python3.4/site-packages/numpy/f2py/src/fortranobject.h -> /tmp/tmpyf5wbz5o/src.linux-x86_64-3.4\u001b[0m\n",
      "\u001b[39m  adding '/tmp/tmpyf5wbz5o/src.linux-x86_64-3.4/vectores-f2pywrappers2.f90' to sources.\u001b[0m\n",
      "\u001b[39mbuild_src: building npy-pkg config files\u001b[0m\n",
      "\u001b[39mrunning build_ext\u001b[0m\n",
      "\u001b[39mcustomize UnixCCompiler\u001b[0m\n",
      "\u001b[39mcustomize UnixCCompiler using build_ext\u001b[0m\n",
      "\u001b[39mcustomize Gnu95FCompiler\u001b[0m\n",
      "\u001b[39mFound executable /usr/bin/gfortran\u001b[0m\n",
      "\u001b[39mcustomize Gnu95FCompiler\u001b[0m\n",
      "\u001b[39mcustomize Gnu95FCompiler using build_ext\u001b[0m\n",
      "\u001b[39mbuilding 'vectores' extension\u001b[0m\n",
      "\u001b[39mcompiling C sources\u001b[0m\n",
      "\u001b[39mC compiler: gcc -pthread -DNDEBUG -g -fwrapv -O3 -Wall -Wstrict-prototypes -fPIC\n",
      "\u001b[0m\n",
      "\u001b[39mcreating /tmp/tmpyf5wbz5o/tmp\u001b[0m\n",
      "\u001b[39mcreating /tmp/tmpyf5wbz5o/tmp/tmpyf5wbz5o\u001b[0m\n",
      "\u001b[39mcreating /tmp/tmpyf5wbz5o/tmp/tmpyf5wbz5o/src.linux-x86_64-3.4\u001b[0m\n",
      "\u001b[39mcompile options: '-I/tmp/tmpyf5wbz5o/src.linux-x86_64-3.4 -I/home/juanlu/.miniconda3/envs/py34/lib/python3.4/site-packages/numpy/core/include -I/home/juanlu/.miniconda3/envs/py34/include/python3.4m -c'\u001b[0m\n",
      "\u001b[39mgcc: /tmp/tmpyf5wbz5o/src.linux-x86_64-3.4/fortranobject.c\u001b[0m\n",
      "In file included from /home/juanlu/.miniconda3/envs/py34/lib/python3.4/site-packages/numpy/core/include/numpy/ndarraytypes.h:1804:0,\n",
      "                 from /home/juanlu/.miniconda3/envs/py34/lib/python3.4/site-packages/numpy/core/include/numpy/ndarrayobject.h:17,\n",
      "                 from /home/juanlu/.miniconda3/envs/py34/lib/python3.4/site-packages/numpy/core/include/numpy/arrayobject.h:4,\n",
      "                 from /tmp/tmpyf5wbz5o/src.linux-x86_64-3.4/fortranobject.h:13,\n",
      "                 from /tmp/tmpyf5wbz5o/src.linux-x86_64-3.4/fortranobject.c:2:\n",
      "/home/juanlu/.miniconda3/envs/py34/lib/python3.4/site-packages/numpy/core/include/numpy/npy_1_7_deprecated_api.h:15:2: warning: #warning \"Using deprecated NumPy API, disable it by \" \"#defining NPY_NO_DEPRECATED_API NPY_1_7_API_VERSION\" [-Wcpp]\n",
      " #warning \"Using deprecated NumPy API, disable it by \" \\\n",
      "  ^\n",
      "\u001b[39mgcc: /tmp/tmpyf5wbz5o/src.linux-x86_64-3.4/vectoresmodule.c\u001b[0m\n",
      "In file included from /home/juanlu/.miniconda3/envs/py34/lib/python3.4/site-packages/numpy/core/include/numpy/ndarraytypes.h:1804:0,\n",
      "                 from /home/juanlu/.miniconda3/envs/py34/lib/python3.4/site-packages/numpy/core/include/numpy/ndarrayobject.h:17,\n",
      "                 from /home/juanlu/.miniconda3/envs/py34/lib/python3.4/site-packages/numpy/core/include/numpy/arrayobject.h:4,\n",
      "                 from /tmp/tmpyf5wbz5o/src.linux-x86_64-3.4/fortranobject.h:13,\n",
      "                 from /tmp/tmpyf5wbz5o/src.linux-x86_64-3.4/vectoresmodule.c:18:\n",
      "/home/juanlu/.miniconda3/envs/py34/lib/python3.4/site-packages/numpy/core/include/numpy/npy_1_7_deprecated_api.h:15:2: warning: #warning \"Using deprecated NumPy API, disable it by \" \"#defining NPY_NO_DEPRECATED_API NPY_1_7_API_VERSION\" [-Wcpp]\n",
      " #warning \"Using deprecated NumPy API, disable it by \" \\\n",
      "  ^\n",
      "/tmp/tmpyf5wbz5o/src.linux-x86_64-3.4/vectoresmodule.c:111:12: warning: ‘f2py_size’ defined but not used [-Wunused-function]\n",
      " static int f2py_size(PyArrayObject* var, ...)\n",
      "            ^\n",
      "\u001b[39mcompiling Fortran 90 module sources\u001b[0m\n",
      "\u001b[39mFortran f77 compiler: /usr/bin/gfortran -Wall -g -ffixed-form -fno-second-underscore -fPIC -O3 -funroll-loops\n",
      "Fortran f90 compiler: /usr/bin/gfortran -Wall -g -fno-second-underscore -fPIC -O3 -funroll-loops\n",
      "Fortran fix compiler: /usr/bin/gfortran -Wall -g -ffixed-form -fno-second-underscore -Wall -g -fno-second-underscore -fPIC -O3 -funroll-loops\u001b[0m\n",
      "\u001b[39mcompile options: '-I/tmp/tmpyf5wbz5o/src.linux-x86_64-3.4 -I/home/juanlu/.miniconda3/envs/py34/lib/python3.4/site-packages/numpy/core/include -I/home/juanlu/.miniconda3/envs/py34/include/python3.4m -c'\n",
      "extra options: '-J/tmp/tmpyf5wbz5o/ -I/tmp/tmpyf5wbz5o/'\u001b[0m\n",
      "\u001b[39mgfortran:f90: vectores.f90\u001b[0m\n",
      "\u001b[39mcompiling Fortran sources\u001b[0m\n",
      "\u001b[39mFortran f77 compiler: /usr/bin/gfortran -Wall -g -ffixed-form -fno-second-underscore -fPIC -O3 -funroll-loops\n",
      "Fortran f90 compiler: /usr/bin/gfortran -Wall -g -fno-second-underscore -fPIC -O3 -funroll-loops\n",
      "Fortran fix compiler: /usr/bin/gfortran -Wall -g -ffixed-form -fno-second-underscore -Wall -g -fno-second-underscore -fPIC -O3 -funroll-loops\u001b[0m\n",
      "\u001b[39mcompile options: '-I/tmp/tmpyf5wbz5o/src.linux-x86_64-3.4 -I/home/juanlu/.miniconda3/envs/py34/lib/python3.4/site-packages/numpy/core/include -I/home/juanlu/.miniconda3/envs/py34/include/python3.4m -c'\n",
      "extra options: '-J/tmp/tmpyf5wbz5o/ -I/tmp/tmpyf5wbz5o/'\u001b[0m\n",
      "\u001b[39mgfortran:f90: /tmp/tmpyf5wbz5o/src.linux-x86_64-3.4/vectores-f2pywrappers2.f90\u001b[0m\n",
      "\u001b[39m/usr/bin/gfortran -Wall -g -Wall -g -shared /tmp/tmpyf5wbz5o/tmp/tmpyf5wbz5o/src.linux-x86_64-3.4/vectoresmodule.o /tmp/tmpyf5wbz5o/tmp/tmpyf5wbz5o/src.linux-x86_64-3.4/fortranobject.o /tmp/tmpyf5wbz5o/vectores.o /tmp/tmpyf5wbz5o/tmp/tmpyf5wbz5o/src.linux-x86_64-3.4/vectores-f2pywrappers2.o -L/home/juanlu/.miniconda3/envs/py34/lib -lpython3.4m -lgfortran -o ./vectores.cpython-34m.so\u001b[0m\n",
      "Removing build directory /tmp/tmpyf5wbz5o\n"
     ]
    }
   ],
   "source": [
    "!f2py3 -c vectores.f90 -m vectores"
   ]
  },
  {
   "cell_type": "code",
   "execution_count": 9,
   "metadata": {
    "collapsed": false
   },
   "outputs": [
    {
     "data": {
      "text/plain": [
       "-2.0"
      ]
     },
     "execution_count": 9,
     "metadata": {},
     "output_type": "execute_result"
    }
   ],
   "source": [
    "from vectores import *  # Importamos el módulo\n",
    "\n",
    "u = np.array([1, 2, 3])\n",
    "v = np.array([1, 0, -1])\n",
    "\n",
    "vectores.producto_escalar(u, v)"
   ]
  },
  {
   "cell_type": "code",
   "execution_count": 10,
   "metadata": {
    "collapsed": false
   },
   "outputs": [
    {
     "data": {
      "text/plain": [
       "array([-2.,  4., -2.])"
      ]
     },
     "execution_count": 10,
     "metadata": {},
     "output_type": "execute_result"
    }
   ],
   "source": [
    "vectores.producto_vectorial(u, v)"
   ]
  },
  {
   "cell_type": "code",
   "execution_count": 11,
   "metadata": {
    "collapsed": true
   },
   "outputs": [],
   "source": [
    "vectores.producto_vectorial?"
   ]
  },
  {
   "cell_type": "markdown",
   "metadata": {},
   "source": [
    "## bottleneck\n",
    "\n",
    "bottleneck es un conjunto de funciones pensadas para manejar arrays de NumPy reescritas en Cython.\n",
    "\n",
    "* Código fuente: https://github.com/kwgoodman/bottleneck\n",
    "* Documentación: http://berkeleyanalytics.com/bottleneck/\n",
    "\n",
    "Está especialmente pensado para arrays de datos donde hay valores vacíos, siendo muy apropiado para combinarlo con otras herramientas como pandas."
   ]
  },
  {
   "cell_type": "code",
   "execution_count": 1,
   "metadata": {
    "collapsed": true
   },
   "outputs": [],
   "source": [
    "import numpy as np\n",
    "arr = np.array([1, 2, np.nan, 4, 5])"
   ]
  },
  {
   "cell_type": "code",
   "execution_count": 2,
   "metadata": {
    "collapsed": false
   },
   "outputs": [
    {
     "data": {
      "text/plain": [
       "3.0"
      ]
     },
     "execution_count": 2,
     "metadata": {},
     "output_type": "execute_result"
    }
   ],
   "source": [
    "import bottleneck as bn\n",
    "bn.nanmean(arr)"
   ]
  },
  {
   "cell_type": "code",
   "execution_count": 13,
   "metadata": {
    "collapsed": false
   },
   "outputs": [
    {
     "name": "stdout",
     "output_type": "stream",
     "text": [
      "The slowest run took 5.15 times longer than the fastest. This could mean that an intermediate result is being cached \n",
      "10000 loops, best of 3: 65.1 µs per loop\n"
     ]
    }
   ],
   "source": [
    "%timeit np.nanmean(arr)"
   ]
  },
  {
   "cell_type": "code",
   "execution_count": 14,
   "metadata": {
    "collapsed": false
   },
   "outputs": [
    {
     "name": "stdout",
     "output_type": "stream",
     "text": [
      "The slowest run took 57.66 times longer than the fastest. This could mean that an intermediate result is being cached \n",
      "1000000 loops, best of 3: 270 ns per loop\n"
     ]
    }
   ],
   "source": [
    "%timeit bn.nanmean(arr)"
   ]
  },
  {
   "cell_type": "markdown",
   "metadata": {},
   "source": [
    "## numexpr"
   ]
  },
  {
   "cell_type": "markdown",
   "metadata": {},
   "source": [
    "numexpr es una biblioteca para evaluar expresiones matemáticas que involucren arrays de NumPy de una forma muy rápida.\n",
    "\n",
    "* Documentación: https://github.com/pydata/numexpr/wiki/Numexpr-Users-Guide"
   ]
  },
  {
   "cell_type": "code",
   "execution_count": 15,
   "metadata": {
    "collapsed": false
   },
   "outputs": [
    {
     "data": {
      "text/plain": [
       "array([ 0,  8, 16, 24, 32, 40, 48, 56, 64, 72], dtype=int64)"
      ]
     },
     "execution_count": 15,
     "metadata": {},
     "output_type": "execute_result"
    }
   ],
   "source": [
    "import numpy as np\n",
    "import numexpr as ne\n",
    "\n",
    "a = np.arange(10)\n",
    "b = np.arange(0, 20, 2)\n",
    "\n",
    "ne.evaluate(\"2*a+3*b\")"
   ]
  }
 ],
 "metadata": {
  "kernelspec": {
   "display_name": "Python 3",
   "language": "python",
   "name": "python3"
  },
  "language_info": {
   "codemirror_mode": {
    "name": "ipython",
    "version": 3
   },
   "file_extension": ".py",
   "mimetype": "text/x-python",
   "name": "python",
   "nbconvert_exporter": "python",
   "pygments_lexer": "ipython3",
   "version": "3.4.3"
  }
 },
 "nbformat": 4,
 "nbformat_minor": 0
}
