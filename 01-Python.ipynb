{
 "cells": [
  {
   "cell_type": "markdown",
   "metadata": {},
   "source": [
    "# Python puro"
   ]
  },
  {
   "cell_type": "markdown",
   "metadata": {},
   "source": [
    "# ¿Qué es Cpython?"
   ]
  },
  {
   "cell_type": "markdown",
   "metadata": {},
   "source": [
    "No hay que confundir entre implementación y lenguaje. CPython es la implementación oficial del lenguaje de programación Python y está escrita en C.\n",
    "\n",
    "Existen otras implementaciones como Jython, Pypy, IronPython, Brython, pypy.js, ..., que permiten obtener una serie de ventajas sobre la implementación oficial.\n",
    "\n",
    "En el presente taller vamos a centrarnos en la implementación oficial, CPython, y en su alternativa natural cuando pensamos en correr código Python sin modificar y con mejoras de rendimiento, Pypy."
   ]
  },
  {
   "cell_type": "code",
   "execution_count": 19,
   "metadata": {
    "collapsed": true
   },
   "outputs": [],
   "source": [
    "from math import sin, pi\n",
    "\n",
    "def plate_displacement_py(xx, yy, ww, a, b, P, xi, eta, D, max_i, max_j, max_m, max_n):\n",
    "    for mm in range(1, max_m):\n",
    "        for nn in range(1, max_n):\n",
    "            for ii in range(max_i):\n",
    "                for jj in range(max_j):\n",
    "                    a_mn = 4 * P * sin(mm * pi * xi / a) * sin(nn * pi * eta / b) / (a * b)\n",
    "                    ww[ii][jj] += (a_mn / (mm**2 / a**2 + nn**2 / b**2)**2\n",
    "                                   * sin(mm * pi * xx[ii][jj] / a)\n",
    "                                   * sin(nn * pi * yy[ii][jj] / b)\n",
    "                                   / (pi**4 * D))"
   ]
  },
  {
   "cell_type": "markdown",
   "metadata": {},
   "source": [
    "Para preparar los valores de entrada vamos a usar numpy, por comodidad, pero al final todos los inputs serán objetos Python en lugar de numpy arrays."
   ]
  },
  {
   "cell_type": "code",
   "execution_count": 20,
   "metadata": {
    "collapsed": false
   },
   "outputs": [],
   "source": [
    "# Plate geometry\n",
    "a = 1.0  # m\n",
    "b = 1.0  # m\n",
    "h = 50e-3  # m\n",
    "\n",
    "# Material properties\n",
    "E = 69e9  # Pa\n",
    "nu = 0.35\n",
    "\n",
    "# Series terms\n",
    "max_m = 16\n",
    "max_n = 16\n",
    "\n",
    "# Computation points\n",
    "# NOTE: With an odd number of points the center of the place is included in\n",
    "# the grid\n",
    "NUM_POINTS = 101\n",
    "max_i = NUM_POINTS\n",
    "max_j = NUM_POINTS\n",
    "\n",
    "# Load\n",
    "P = 10e3  # N\n",
    "xi = a / 2\n",
    "eta = a / 2\n",
    "\n",
    "# Flexural rigidity\n",
    "D = h**3 * E / (12 * (1 - nu**2))\n",
    "\n",
    "# ---\n",
    "\n",
    "# Set up domain\n",
    "x = np.linspace(0, a, num=NUM_POINTS)\n",
    "y = np.linspace(0, b, num=NUM_POINTS)\n",
    "xx, yy = np.meshgrid(x, y)\n",
    "\n",
    "ww = np.zeros_like(xx)\n",
    "\n",
    "xx = xx.tolist()\n",
    "yy = yy.tolist()\n",
    "ww = ww.tolist()"
   ]
  },
  {
   "cell_type": "markdown",
   "metadata": {},
   "source": [
    "Veamos el resultado:"
   ]
  },
  {
   "cell_type": "code",
   "execution_count": 21,
   "metadata": {
    "collapsed": false
   },
   "outputs": [
    {
     "name": "stdout",
     "output_type": "stream",
     "text": [
      "Maximum displacement = 0.141317840389 mm\n",
      "alpha = 0.01158\n",
      "alpha * P a^2 / D = 0.1416 mm\n"
     ]
    }
   ],
   "source": [
    "# Compute displacement field\n",
    "plate_displacement_py(xx, yy, ww, a, b, P, xi, eta, D, max_i, max_j, max_m, max_n)\n",
    "\n",
    "# Print maximum displacement\n",
    "w_max = [[abs(i) for i in lst] for lst in ww[:]]\n",
    "w_max = max([max(val) for val in w_max[:]])\n",
    "print(\"Maximum displacement = %14.12f mm\" % (w_max * 1e3))\n",
    "print(\"alpha = %7.5f\" % (w_max / (P * a**2 / D)))\n",
    "print(\"alpha * P a^2 / D = %6.4f mm\" % (0.01160 * P * a**2 / D * 1e3))"
   ]
  },
  {
   "cell_type": "markdown",
   "metadata": {},
   "source": [
    "Y el tiempo de ejecución:"
   ]
  },
  {
   "cell_type": "code",
   "execution_count": 22,
   "metadata": {
    "collapsed": false
   },
   "outputs": [
    {
     "name": "stdout",
     "output_type": "stream",
     "text": [
      "1 loops, best of 3: 53.3 s per loop\n"
     ]
    }
   ],
   "source": [
    "%timeit plate_displacement_py(xx, yy, ww, a, b, P, xi, eta, D, max_i, max_j, max_m, max_n)"
   ]
  },
  {
   "cell_type": "markdown",
   "metadata": {},
   "source": [
    "# Versión en puro Pypy"
   ]
  },
  {
   "cell_type": "markdown",
   "metadata": {},
   "source": [
    "## ¿Qué es pypy?"
   ]
  },
  {
   "cell_type": "markdown",
   "metadata": {},
   "source": [
    "Pypy [pretende ser una implementación](http://pypy.org/features.html) que cumple 'totalmente' (o, al menos, lo máximo posible según crean los desarrolladores) con la especificación del lenguaje Python y que sea totalmente compatible con CPython.\n",
    "\n",
    "Ahora mismo hay versiones para python 2.7 y 3.2.\n",
    "\n",
    "<center><img src=\"./static/pypy_performance.png\" width=600 height=400/></center>"
   ]
  },
  {
   "cell_type": "code",
   "execution_count": 23,
   "metadata": {
    "collapsed": false
   },
   "outputs": [
    {
     "name": "stdout",
     "output_type": "stream",
     "text": [
      "Maximum displacement = 0.141317840389 mm\n",
      "alpha = 0.01158\n",
      "alpha * P a^2 / D = 0.1416 mm\n",
      "2.76839942932\n"
     ]
    }
   ],
   "source": [
    "%%pypy\n",
    "\n",
    "from math import sin, pi\n",
    "import time\n",
    "import numpy as np\n",
    "\n",
    "def plate_displacement(xx, yy, ww, a, b, P, xi, eta, D, max_i, max_j, max_m, max_n):\n",
    "    for mm in range(1, max_m):\n",
    "        for nn in range(1, max_n):\n",
    "            for ii in range(max_i):\n",
    "                for jj in range(max_j):\n",
    "                    a_mn = 4 * P * sin(mm * pi * xi / a) * sin(nn * pi * eta / b) / (a * b)\n",
    "                    ww[ii][jj] += (a_mn / (mm**2 / a**2 + nn**2 / b**2)**2\n",
    "                                   * sin(mm * pi * xx[ii][jj] / a)\n",
    "                                   * sin(nn * pi * yy[ii][jj] / b)\n",
    "                                   / (pi**4 * D))\n",
    "\n",
    "# Plate geometry\n",
    "a = 1.0  # m\n",
    "b = 1.0  # m\n",
    "h = 50e-3  # m\n",
    "\n",
    "# Material properties\n",
    "E = 69e9  # Pa\n",
    "nu = 0.35\n",
    "\n",
    "# Series terms\n",
    "max_m = 16\n",
    "max_n = 16\n",
    "\n",
    "# Computation points\n",
    "# NOTE: With an odd number of points the center of the place is included in\n",
    "# the grid\n",
    "NUM_POINTS = 101\n",
    "max_i = NUM_POINTS\n",
    "max_j = NUM_POINTS\n",
    "\n",
    "# Load\n",
    "P = 10e3  # N\n",
    "xi = a / 2\n",
    "eta = a / 2\n",
    "\n",
    "# Flexural rigidity\n",
    "D = h**3 * E / (12 * (1 - nu**2))\n",
    "\n",
    "# ---\n",
    "\n",
    "# Set up domain\n",
    "x = np.linspace(0, a, num=NUM_POINTS)\n",
    "y = np.linspace(0, b, num=NUM_POINTS)\n",
    "xx, yy = np.meshgrid(x, y)\n",
    "\n",
    "ww = np.zeros_like(xx)\n",
    "\n",
    "xx = xx.tolist()\n",
    "yy = yy.tolist()\n",
    "ww = ww.tolist()\n",
    "\n",
    "# Compute displacement field\n",
    "plate_displacement(xx, yy, ww, a, b, P, xi, eta, D, max_i, max_j, max_m, max_n)\n",
    "\n",
    "# Print maximum displacement\n",
    "w_max = [[abs(i) for i in lst] for lst in ww[:]]\n",
    "w_max = max([max(val) for val in w_max[:]])\n",
    "print(\"Maximum displacement = %14.12f mm\" % (w_max * 1e3))\n",
    "print(\"alpha = %7.5f\" % (w_max / (P * a**2 / D)))\n",
    "print(\"alpha * P a^2 / D = %6.4f mm\" % (0.01160 * P * a**2 / D * 1e3))\n",
    "\n",
    "t = []\n",
    "times = 10\n",
    "for i in range(times):\n",
    "    t0 = time.time()\n",
    "    plate_displacement(xx, yy, ww, a, b, P, xi, eta, D, max_i, max_j, max_m, max_n)\n",
    "    t1 = time.time() - t0\n",
    "    t.append(t1)\n",
    "print(sum(t) / times)"
   ]
  }
 ],
 "metadata": {
  "kernelspec": {
   "display_name": "Python 3",
   "language": "python",
   "name": "python3"
  },
  "language_info": {
   "codemirror_mode": {
    "name": "ipython",
    "version": 3
   },
   "file_extension": ".py",
   "mimetype": "text/x-python",
   "name": "python",
   "nbconvert_exporter": "python",
   "pygments_lexer": "ipython3",
   "version": "3.4.3"
  }
 },
 "nbformat": 4,
 "nbformat_minor": 0
}
